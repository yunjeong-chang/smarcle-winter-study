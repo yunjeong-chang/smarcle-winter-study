{
  "nbformat": 4,
  "nbformat_minor": 0,
  "metadata": {
    "kernelspec": {
      "display_name": "Python 3",
      "language": "python",
      "name": "python3"
    },
    "language_info": {
      "codemirror_mode": {
        "name": "ipython",
        "version": 3
      },
      "file_extension": ".py",
      "mimetype": "text/x-python",
      "name": "python",
      "nbconvert_exporter": "python",
      "pygments_lexer": "ipython3",
      "version": "3.7.3"
    },
    "colab": {
      "name": "NLP.ipynb",
      "provenance": [],
      "include_colab_link": true
    },
    "accelerator": "GPU"
  },
  "cells": [
    {
      "cell_type": "markdown",
      "metadata": {
        "id": "view-in-github",
        "colab_type": "text"
      },
      "source": [
        "<a href=\"https://colab.research.google.com/github/yunjeong-chang/smarcle-winter-study/blob/main/NLP.ipynb\" target=\"_parent\"><img src=\"https://colab.research.google.com/assets/colab-badge.svg\" alt=\"Open In Colab\"/></a>"
      ]
    },
    {
      "cell_type": "markdown",
      "metadata": {
        "id": "hkD_Ht9XXQOF"
      },
      "source": [
        "* 주어진 문장을 '단어'로 토큰화 하기\r\n",
        "\r\n"
      ]
    },
    {
      "cell_type": "code",
      "metadata": {
        "colab": {
          "base_uri": "https://localhost:8080/"
        },
        "id": "RyvbuwC8W9M9",
        "outputId": "2ebdcb6c-a708-40e7-9518-b4a02ad959f3"
      },
      "source": [
        "import numpy\r\n",
        "import tensorflow as tf\r\n",
        "from numpy import array\r\n",
        "from tensorflow.keras.preprocessing.text import Tokenizer\r\n",
        "from tensorflow.keras.preprocessing.sequence import pad_sequences\r\n",
        "from tensorflow.keras.models import Sequential\r\n",
        "from tensorflow.keras.layers import Dense,Flatten,Embedding\r\n",
        "#케라스의 텍스트 전처리와 관련한 함수중 text_to_word_sequence 함수를 불러 옵니다.\r\n",
        "from tensorflow.keras.preprocessing.text import text_to_word_sequence\r\n",
        " \r\n",
        "# 전처리할 텍스트를 정합니다.\r\n",
        "text = '해보지 않으면 해낼 수 없다'\r\n",
        " \r\n",
        "# 해당 텍스트를 토큰화 합니다.\r\n",
        "result = text_to_word_sequence(text)\r\n",
        "print(\"원문: \", text)\r\n",
        "print(\"\\n토큰화: \", result)"
      ],
      "execution_count": 2,
      "outputs": [
        {
          "output_type": "stream",
          "text": [
            "원문:  해보지 않으면 해낼 수 없다\n",
            "\n",
            "토큰화:  ['해보지', '않으면', '해낼', '수', '없다']\n"
          ],
          "name": "stdout"
        }
      ]
    },
    {
      "cell_type": "markdown",
      "metadata": {
        "id": "rr941QPzXVVC"
      },
      "source": [
        "*  단어 빈도수 세기"
      ]
    },
    {
      "cell_type": "code",
      "metadata": {
        "colab": {
          "base_uri": "https://localhost:8080/"
        },
        "id": "MN4_Xf77X3Ln",
        "outputId": "b15ccba8-e017-4b12-c55a-0d9a8c249478"
      },
      "source": [
        "#전처리 하려는 세개의 문장을 정합니다.\r\n",
        "docs = ['먼저 텍스트의 각 단어를 나누어 토큰화 합니다.',\r\n",
        "       '텍스트의 단어로 토큰화 해야 딥러닝에서 인식됩니다.',\r\n",
        "       '토큰화 한 결과는 딥러닝에서 사용 할 수 있습니다.',\r\n",
        "       ]\r\n",
        " \r\n",
        "# 토큰화 함수를 이용해 전처리 하는 과정입니다.\r\n",
        "token = Tokenizer()            # 토큰화 함수 지정\r\n",
        "token.fit_on_texts(docs)       # 토큰화 함수에 문장 적용\r\n",
        " \r\n",
        "print(\"단어 카운트: \", token.word_counts)  #단어의 빈도수를 계산한 결과를 각 옵션에 맞추어 출력\r\n",
        "\r\n",
        "#Tokenizer()의 word_counts 함수는 순서를 기억하는 OrderedDict클래스를 사용합니다."
      ],
      "execution_count": 5,
      "outputs": [
        {
          "output_type": "stream",
          "text": [
            "단어 카운트:  OrderedDict([('먼저', 1), ('텍스트의', 2), ('각', 1), ('단어를', 1), ('나누어', 1), ('토큰화', 3), ('합니다', 1), ('단어로', 1), ('해야', 1), ('딥러닝에서', 2), ('인식됩니다', 1), ('한', 1), ('결과는', 1), ('사용', 1), ('할', 1), ('수', 1), ('있습니다', 1)])\n"
          ],
          "name": "stdout"
        }
      ]
    },
    {
      "cell_type": "code",
      "metadata": {
        "colab": {
          "base_uri": "https://localhost:8080/"
        },
        "id": "Ft0BPqIjX_EG",
        "outputId": "5d907d40-a4b8-4770-e1f0-cffd21077109"
      },
      "source": [
        "#출력되는 순서는 랜덤입니다. \r\n",
        "print(\"문장 카운트: \", token.document_count)\r\n",
        "print(\"\\n각 단어가 몇개의 문장에 포함되어 있는가: \", token.word_docs)\r\n",
        "print(\"\\n각 단어에 매겨진 인덱스 값: \",  token.word_index)"
      ],
      "execution_count": 7,
      "outputs": [
        {
          "output_type": "stream",
          "text": [
            "문장 카운트:  3\n",
            "\n",
            "각 단어가 몇개의 문장에 포함되어 있는가:  defaultdict(<class 'int'>, {'토큰화': 3, '나누어': 1, '각': 1, '먼저': 1, '단어를': 1, '합니다': 1, '텍스트의': 2, '인식됩니다': 1, '해야': 1, '단어로': 1, '딥러닝에서': 2, '있습니다': 1, '수': 1, '한': 1, '사용': 1, '결과는': 1, '할': 1})\n",
            "\n",
            "각 단어에 매겨진 인덱스 값:  {'토큰화': 1, '텍스트의': 2, '딥러닝에서': 3, '먼저': 4, '각': 5, '단어를': 6, '나누어': 7, '합니다': 8, '단어로': 9, '해야': 10, '인식됩니다': 11, '한': 12, '결과는': 13, '사용': 14, '할': 15, '수': 16, '있습니다': 17}\n"
          ],
          "name": "stdout"
        }
      ]
    },
    {
      "cell_type": "code",
      "metadata": {
        "colab": {
          "base_uri": "https://localhost:8080/"
        },
        "id": "fVbddIK7YHXo",
        "outputId": "bace4ddf-9ab4-41ef-a30e-e26ac8efe621"
      },
      "source": [
        "# 텍스트 리뷰 자료를 지정합니다.\r\n",
        "docs = [\"너무 재밌네요\",\"최고예요\",\"참 잘 만든 영화예요\",\"추천하고 싶은 영화입니다\",\"한번 더 보고싶네요\",\"글쎄요\",\"별로예요\",\"생각보다 지루하네요\",\"연기가 어색해요\",\"재미없어요\"]\r\n",
        "\r\n",
        "# 긍정 리뷰는 1, 부정 리뷰는 0으로 클래스를 지정합니다.\r\n",
        "classes = array([1,1,1,1,1,0,0,0,0,0])\r\n",
        "\r\n",
        "# 토큰화 \r\n",
        "token = Tokenizer()\r\n",
        "token.fit_on_texts(docs)\r\n",
        "print(token.word_index)\r\n",
        "x = token.texts_to_sequences(docs)\r\n",
        "print(\"\\n리뷰 텍스트, 토큰화 결과: \",  x)"
      ],
      "execution_count": 9,
      "outputs": [
        {
          "output_type": "stream",
          "text": [
            "{'너무': 1, '재밌네요': 2, '최고예요': 3, '참': 4, '잘': 5, '만든': 6, '영화예요': 7, '추천하고': 8, '싶은': 9, '영화입니다': 10, '한번': 11, '더': 12, '보고싶네요': 13, '글쎄요': 14, '별로예요': 15, '생각보다': 16, '지루하네요': 17, '연기가': 18, '어색해요': 19, '재미없어요': 20}\n",
            "\n",
            "리뷰 텍스트, 토큰화 결과:  [[1, 2], [3], [4, 5, 6, 7], [8, 9, 10], [11, 12, 13], [14], [15], [16, 17], [18, 19], [20]]\n"
          ],
          "name": "stdout"
        }
      ]
    },
    {
      "cell_type": "code",
      "metadata": {
        "colab": {
          "base_uri": "https://localhost:8080/"
        },
        "id": "70aGvrEeYJj5",
        "outputId": "b3105844-be99-4e5f-bbbf-bce5b7a88a34"
      },
      "source": [
        "# 패딩, 서로 다른 길이의 데이터를 4로 맞추어 줍니다.\r\n",
        "padded_x = pad_sequences(x, 4)  \r\n",
        "print(\"패딩 결과:\\n\", padded_x)"
      ],
      "execution_count": 11,
      "outputs": [
        {
          "output_type": "stream",
          "text": [
            "패딩 결과:\n",
            " [[ 0  0  1  2]\n",
            " [ 0  0  0  3]\n",
            " [ 4  5  6  7]\n",
            " [ 0  8  9 10]\n",
            " [ 0 11 12 13]\n",
            " [ 0  0  0 14]\n",
            " [ 0  0  0 15]\n",
            " [ 0  0 16 17]\n",
            " [ 0  0 18 19]\n",
            " [ 0  0  0 20]]\n"
          ],
          "name": "stdout"
        }
      ]
    },
    {
      "cell_type": "code",
      "metadata": {
        "id": "_iY1tdfhnHbt",
        "colab": {
          "base_uri": "https://localhost:8080/"
        },
        "outputId": "dded59ca-5c2c-49fd-d56e-f5100f9d4c16"
      },
      "source": [
        "#딥러닝 모델\n",
        "print(\"딥러닝 모델 시작:\")\n",
        "\n",
        "#임베딩에 입력될 단어의 수를 지정합니다.\n",
        "word_size = len(token.word_index) +1\n",
        " \n",
        "#단어 임베딩을 포함하여 딥러닝 모델을 만들고 결과를 출력합니다.\n",
        "model = Sequential()\n",
        "model.add(Embedding(word_size, 8, input_length=4))\n",
        "model.add(Flatten())\n",
        "model.add(Dense(1, activation='sigmoid'))\n",
        "model.compile(optimizer='adam', loss='binary_crossentropy', metrics=['accuracy'])\n",
        "model.fit(padded_x, classes, epochs=20)\n",
        "print(\"\\n Accuracy: %.4f\" % (model.evaluate(padded_x, classes)[1]))"
      ],
      "execution_count": 13,
      "outputs": [
        {
          "output_type": "stream",
          "text": [
            "딥러닝 모델 시작:\n",
            "Epoch 1/20\n",
            "1/1 [==============================] - 0s 386ms/step - loss: 0.7004 - accuracy: 0.3000\n",
            "Epoch 2/20\n",
            "1/1 [==============================] - 0s 5ms/step - loss: 0.6981 - accuracy: 0.3000\n",
            "Epoch 3/20\n",
            "1/1 [==============================] - 0s 4ms/step - loss: 0.6958 - accuracy: 0.3000\n",
            "Epoch 4/20\n",
            "1/1 [==============================] - 0s 6ms/step - loss: 0.6935 - accuracy: 0.3000\n",
            "Epoch 5/20\n",
            "1/1 [==============================] - 0s 6ms/step - loss: 0.6912 - accuracy: 0.4000\n",
            "Epoch 6/20\n",
            "1/1 [==============================] - 0s 5ms/step - loss: 0.6889 - accuracy: 0.5000\n",
            "Epoch 7/20\n",
            "1/1 [==============================] - 0s 6ms/step - loss: 0.6866 - accuracy: 0.6000\n",
            "Epoch 8/20\n",
            "1/1 [==============================] - 0s 5ms/step - loss: 0.6844 - accuracy: 0.8000\n",
            "Epoch 9/20\n",
            "1/1 [==============================] - 0s 11ms/step - loss: 0.6821 - accuracy: 0.8000\n",
            "Epoch 10/20\n",
            "1/1 [==============================] - 0s 5ms/step - loss: 0.6799 - accuracy: 0.9000\n",
            "Epoch 11/20\n",
            "1/1 [==============================] - 0s 5ms/step - loss: 0.6776 - accuracy: 0.9000\n",
            "Epoch 12/20\n",
            "1/1 [==============================] - 0s 3ms/step - loss: 0.6754 - accuracy: 0.9000\n",
            "Epoch 13/20\n",
            "1/1 [==============================] - 0s 6ms/step - loss: 0.6731 - accuracy: 0.9000\n",
            "Epoch 14/20\n",
            "1/1 [==============================] - 0s 6ms/step - loss: 0.6709 - accuracy: 0.9000\n",
            "Epoch 15/20\n",
            "1/1 [==============================] - 0s 8ms/step - loss: 0.6686 - accuracy: 1.0000\n",
            "Epoch 16/20\n",
            "1/1 [==============================] - 0s 4ms/step - loss: 0.6664 - accuracy: 1.0000\n",
            "Epoch 17/20\n",
            "1/1 [==============================] - 0s 3ms/step - loss: 0.6641 - accuracy: 1.0000\n",
            "Epoch 18/20\n",
            "1/1 [==============================] - 0s 4ms/step - loss: 0.6619 - accuracy: 1.0000\n",
            "Epoch 19/20\n",
            "1/1 [==============================] - 0s 6ms/step - loss: 0.6596 - accuracy: 1.0000\n",
            "Epoch 20/20\n",
            "1/1 [==============================] - 0s 5ms/step - loss: 0.6573 - accuracy: 1.0000\n",
            "1/1 [==============================] - 0s 84ms/step - loss: 0.6550 - accuracy: 1.0000\n",
            "\n",
            " Accuracy: 1.0000\n"
          ],
          "name": "stdout"
        }
      ]
    }
  ]
}