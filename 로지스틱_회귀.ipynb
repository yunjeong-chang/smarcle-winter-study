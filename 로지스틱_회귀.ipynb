{
  "nbformat": 4,
  "nbformat_minor": 0,
  "metadata": {
    "colab": {
      "name": "로지스틱 회귀.ipynb",
      "provenance": [],
      "collapsed_sections": [],
      "authorship_tag": "ABX9TyPl1GGbS7nA1cFQP+e+yvdR",
      "include_colab_link": true
    },
    "kernelspec": {
      "name": "python3",
      "display_name": "Python 3"
    }
  },
  "cells": [
    {
      "cell_type": "markdown",
      "metadata": {
        "id": "view-in-github",
        "colab_type": "text"
      },
      "source": [
        "<a href=\"https://colab.research.google.com/github/yunjeong-chang/smarcle-winter-study/blob/main/%EB%A1%9C%EC%A7%80%EC%8A%A4%ED%8B%B1_%ED%9A%8C%EA%B7%80.ipynb\" target=\"_parent\"><img src=\"https://colab.research.google.com/assets/colab-badge.svg\" alt=\"Open In Colab\"/></a>"
      ]
    },
    {
      "cell_type": "markdown",
      "metadata": {
        "id": "ze0Bg2vrFkII"
      },
      "source": [
        "<로지스틱 회귀>"
      ]
    },
    {
      "cell_type": "code",
      "metadata": {
        "id": "YYTMYmZXFdgJ"
      },
      "source": [
        "import numpy as np\r\n",
        "import pandas as pd\r\n",
        "import matplotlib.pyplot as plt\r\n",
        "\r\n",
        "#공부 시간 x와 합격 여부 y의 리스트 만들기\r\n",
        "data = [[2, 0], [4, 0], [6, 0], [8, 1], [10, 1], [12, 1], [14, 1]]\r\n",
        "\r\n",
        "x_data = [i[0] for i in data]\r\n",
        "y_data = [i[1] for i in data]"
      ],
      "execution_count": 1,
      "outputs": []
    },
    {
      "cell_type": "code",
      "metadata": {
        "colab": {
          "base_uri": "https://localhost:8080/",
          "height": 282
        },
        "id": "lt38SIFhGHoQ",
        "outputId": "dbe06a51-d8fa-4ad2-81e1-fcf5f3ea9fb4"
      },
      "source": [
        "#그래프로 나타내기\r\n",
        "plt.scatter(x_data, y_data)\r\n",
        "plt.xlim(0, 15)\r\n",
        "plt.ylim(-.1, 1.1)"
      ],
      "execution_count": 2,
      "outputs": [
        {
          "output_type": "execute_result",
          "data": {
            "text/plain": [
              "(-0.1, 1.1)"
            ]
          },
          "metadata": {
            "tags": []
          },
          "execution_count": 2
        },
        {
          "output_type": "display_data",
          "data": {
            "image/png": "[encoded data removed]",
            "text/plain": [
              "<Figure size 432x288 with 1 Axes>"
            ]
          },
          "metadata": {
            "tags": [],
            "needs_background": "light"
          }
        }
      ]
    },
    {
      "cell_type": "code",
      "metadata": {
        "id": "qmg9TvriGUsh"
      },
      "source": [
        "#기울기 a와 절편 b의 값 초기화\r\n",
        "a = 0\r\n",
        "b = 0\r\n",
        "\r\n",
        "#학습률\r\n",
        "lr = 0.05"
      ],
      "execution_count": 3,
      "outputs": []
    },
    {
      "cell_type": "code",
      "metadata": {
        "id": "M-bwT1_vGblt"
      },
      "source": [
        "#시그모이드 함수 정의\r\n",
        "def sigmoid(x):\r\n",
        "  return 1 / (1 + np.e**(-x))"
      ],
      "execution_count": 4,
      "outputs": []
    },
    {
      "cell_type": "code",
      "metadata": {
        "colab": {
          "base_uri": "https://localhost:8080/"
        },
        "id": "drf3YjoxGlHO",
        "outputId": "4be0971d-cc56-4435-a6c1-6a35937ed6ad"
      },
      "source": [
        "#경사 하강법 실행\r\n",
        "#1000번 반복될 때마다 각 x_data 값에 대한 현재의 a값, b값 출력\r\n",
        "for i in range(2001): \r\n",
        "  for x_data, y_data in data: \r\n",
        "    a_diff = x_data * (sigmoid(a * x_data + b) - y_data)\r\n",
        "    b_diff = sigmoid(a * x_data + b) - y_data\r\n",
        "    a = a - lr * a_diff\r\n",
        "    b = b - lr * b_diff\r\n",
        "    if i % 1000 == 0:\r\n",
        "      print(\"epoch=%.f, 기울기=%.04f, 절편=%.04f\" %(i, a, b))"
      ],
      "execution_count": 7,
      "outputs": [
        {
          "output_type": "stream",
          "text": [
            "epoch=0, 기울기=-0.0500, 절편=-0.0250\n",
            "epoch=0, 기울기=-0.1388, 절편=-0.0472\n",
            "epoch=0, 기울기=-0.2268, 절편=-0.0619\n",
            "epoch=0, 기울기=0.1201, 절편=-0.0185\n",
            "epoch=0, 기울기=0.2374, 절편=-0.0068\n",
            "epoch=0, 기울기=0.2705, 절편=-0.0040\n",
            "epoch=0, 기울기=0.2860, 절편=-0.0029\n",
            "epoch=1000, 기울기=1.4978, 절편=-9.9401\n",
            "epoch=1000, 기울기=1.4940, 절편=-9.9411\n",
            "epoch=1000, 기울기=1.4120, 절편=-9.9547\n",
            "epoch=1000, 기울기=1.4949, 절편=-9.9444\n",
            "epoch=1000, 기울기=1.4982, 절편=-9.9440\n",
            "epoch=1000, 기울기=1.4984, 절편=-9.9440\n",
            "epoch=1000, 기울기=1.4985, 절편=-9.9440\n",
            "epoch=2000, 기울기=1.9065, 절편=-12.9489\n",
            "epoch=2000, 기울기=1.9055, 절편=-12.9491\n",
            "epoch=2000, 기울기=1.8515, 절편=-12.9581\n",
            "epoch=2000, 기울기=1.9057, 절편=-12.9514\n",
            "epoch=2000, 기울기=1.9068, 절편=-12.9513\n",
            "epoch=2000, 기울기=1.9068, 절편=-12.9513\n",
            "epoch=2000, 기울기=1.9068, 절편=-12.9513\n"
          ],
          "name": "stdout"
        }
      ]
    },
    {
      "cell_type": "code",
      "metadata": {
        "colab": {
          "base_uri": "https://localhost:8080/",
          "height": 265
        },
        "id": "dvdFGa64HUDu",
        "outputId": "590a6a79-4087-4977-9bd9-55004857fbb6"
      },
      "source": [
        "#앞서 구한 기울기와 절편을 이용해 그래프 그리기\r\n",
        "plt.scatter(x_data, y_data)\r\n",
        "plt.xlim(0,15)\r\n",
        "plt.ylim(-.1, 1.1)\r\n",
        "x_range = (np.arange(0, 15, 0.1)) #그래프로 나타낼 x값의 범위 정하기\r\n",
        "plt.plot(np.arange(0, 15, 0.1), np.array([sigmoid(a * x + b) for x in x_range]))\r\n",
        "plt.show()"
      ],
      "execution_count": 9,
      "outputs": [
        {
          "output_type": "display_data",
          "data": {
            "image/png": "[encoded data removed]",
            "text/plain": [
              "<Figure size 432x288 with 1 Axes>"
            ]
          },
          "metadata": {
            "tags": [],
            "needs_background": "light"
          }
        }
      ]
    }
  ]
}