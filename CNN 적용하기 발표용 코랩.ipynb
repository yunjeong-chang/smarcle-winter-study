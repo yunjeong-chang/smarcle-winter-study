{
  "nbformat": 4,
  "nbformat_minor": 0,
  "metadata": {
    "colab": {
      "name": "CNN 적용하기 발표.ipynb",
      "provenance": [],
      "collapsed_sections": [],
      "authorship_tag": "ABX9TyMWVH5rc4IRHFfqoEfWUwpV",
      "include_colab_link": true
    },
    "kernelspec": {
      "name": "python3",
      "display_name": "Python 3"
    },
    "accelerator": "GPU"
  },
  "cells": [
    {
      "cell_type": "markdown",
      "metadata": {
        "id": "view-in-github",
        "colab_type": "text"
      },
      "source": [
        "<a href=\"https://colab.research.google.com/github/yunjeong-chang/smarcle-winter-study/blob/main/CNN%20%EC%A0%81%EC%9A%A9%ED%95%98%EA%B8%B0%20%EB%B0%9C%ED%91%9C%EC%9A%A9%20%EC%BD%94%EB%9E%A9.ipynb\" target=\"_parent\"><img src=\"https://colab.research.google.com/assets/colab-badge.svg\" alt=\"Open In Colab\"/></a>"
      ]
    },
    {
      "cell_type": "markdown",
      "metadata": {
        "id": "Z3OPVpnucysT"
      },
      "source": [
        "*   이전 실습 정확도 : 0.98xx\r\n",
        "*   같은 데이터셋에 CNN을 적용해보면 정확도가 올라갈까?"
      ]
    },
    {
      "cell_type": "code",
      "metadata": {
        "id": "kzAKxOTkcxTW"
      },
      "source": [
        "from keras.datasets import mnist\r\n",
        "from keras.utils import np_utils\r\n",
        "from keras.models import Sequential\r\n",
        "from keras.layers import Dense, Dropout, Flatten, Conv2D, MaxPooling2D\r\n",
        "from keras.callbacks import EarlyStopping\r\n",
        "\r\n",
        "import pandas as pd\r\n",
        "import numpy as np\r\n",
        "import tensorflow as tf\r\n",
        "import matplotlib.pyplot as plt\r\n",
        "\r\n",
        "seed = 0\r\n",
        "np.random.seed(seed)\r\n",
        "tf.compat.v1.set_random_seed(3)\r\n",
        "\r\n",
        "# MNIST 데이터 불러오기\r\n",
        "(X_train, Y_class_train), (X_test, Y_class_test) = mnist.load_data()\r\n",
        "\r\n",
        "# 속성의 차원 변환 \r\n",
        "X_train = X_train.reshape(X_train.shape[0], 28, 28, 1).astype('float32') / 255        \r\n",
        "X_test = X_test.reshape(X_test.shape[0], 28, 28, 1).astype('float32') / 255\r\n",
        "\r\n",
        "# 클래스의 원핫인코딩\r\n",
        "Y_train = np_utils.to_categorical(Y_class_train, 10)\r\n",
        "Y_test = np_utils.to_categorical(Y_class_test, 10)"
      ],
      "execution_count": 9,
      "outputs": []
    },
    {
      "cell_type": "markdown",
      "metadata": {
        "id": "thXg9k66f2ZL"
      },
      "source": [
        "*   모델에 CNN(컨볼루션 신경망) 적용!\r\n",
        "* Conv2D, MaxPooling2D, Dropout, Flatten"
      ]
    },
    {
      "cell_type": "code",
      "metadata": {
        "colab": {
          "base_uri": "https://localhost:8080/"
        },
        "id": "T0BJ935Wf1JY",
        "outputId": "5f0e1c91-d54d-4e01-dbd5-baa86c9621fc"
      },
      "source": [
        "# CNN(컨볼루션 신경망) 모델의 설정\r\n",
        "model = Sequential()\r\n",
        "model.add(Conv2D(32, kernel_size=(3, 3), input_shape=(28, 28, 1), activation='relu')) #strides=(2,2), padding='same'\r\n",
        "model.add(Conv2D(64, (3, 3), activation='relu'))\r\n",
        "model.add(MaxPooling2D(pool_size=2))\r\n",
        "model.add(Dropout(0.25))\r\n",
        "model.add(Flatten())\r\n",
        "model.add(Dense(128,  activation='relu'))\r\n",
        "model.add(Dropout(0.5))\r\n",
        "model.add(Dense(10, activation='softmax'))\r\n",
        "\r\n",
        "#모델 실행 환경 설정\r\n",
        "model.compile(loss='categorical_crossentropy', optimizer='adam', metrics=['accuracy'])\r\n",
        "\r\n",
        "#모델 시각화\r\n",
        "model.summary()"
      ],
      "execution_count": 10,
      "outputs": [
        {
          "output_type": "stream",
          "text": [
            "Model: \"sequential_2\"\n",
            "_________________________________________________________________\n",
            "Layer (type)                 Output Shape              Param #   \n",
            "=================================================================\n",
            "conv2d_4 (Conv2D)            (None, 26, 26, 32)        320       \n",
            "_________________________________________________________________\n",
            "conv2d_5 (Conv2D)            (None, 24, 24, 64)        18496     \n",
            "_________________________________________________________________\n",
            "max_pooling2d_2 (MaxPooling2 (None, 12, 12, 64)        0         \n",
            "_________________________________________________________________\n",
            "dropout_4 (Dropout)          (None, 12, 12, 64)        0         \n",
            "_________________________________________________________________\n",
            "flatten_2 (Flatten)          (None, 9216)              0         \n",
            "_________________________________________________________________\n",
            "dense_4 (Dense)              (None, 128)               1179776   \n",
            "_________________________________________________________________\n",
            "dropout_5 (Dropout)          (None, 128)               0         \n",
            "_________________________________________________________________\n",
            "dense_5 (Dense)              (None, 10)                1290      \n",
            "=================================================================\n",
            "Total params: 1,199,882\n",
            "Trainable params: 1,199,882\n",
            "Non-trainable params: 0\n",
            "_________________________________________________________________\n"
          ],
          "name": "stdout"
        }
      ]
    },
    {
      "cell_type": "code",
      "metadata": {
        "colab": {
          "base_uri": "https://localhost:8080/"
        },
        "id": "HfnmZ0W-gFfS",
        "outputId": "712fbdbd-5e64-456b-8dd4-9a5e07ca7c1b"
      },
      "source": [
        "# 모델의 성과 향상이 없으면 학습 중단\r\n",
        "early_stopping_callback = EarlyStopping(monitor='val_loss', patience= 10)\r\n",
        "\r\n",
        "# 모델 실행\r\n",
        "history = model.fit(X_train, Y_train, validation_data=(X_test, Y_test), epochs=30, batch_size=200, verbose=1, callbacks=[early_stopping_callback])\r\n",
        "\r\n",
        "# 테스트셋 정확도 출력\r\n",
        "print(\"Test Accuracy: %.4f\" %(model.evaluate(X_test, Y_test)[1]))"
      ],
      "execution_count": 11,
      "outputs": [
        {
          "output_type": "stream",
          "text": [
            "Epoch 1/30\n",
            "300/300 [==============================] - 4s 11ms/step - loss: 0.5401 - accuracy: 0.8297 - val_loss: 0.0549 - val_accuracy: 0.9836\n",
            "Epoch 2/30\n",
            "300/300 [==============================] - 3s 10ms/step - loss: 0.0953 - accuracy: 0.9723 - val_loss: 0.0403 - val_accuracy: 0.9862\n",
            "Epoch 3/30\n",
            "300/300 [==============================] - 3s 10ms/step - loss: 0.0654 - accuracy: 0.9800 - val_loss: 0.0360 - val_accuracy: 0.9879\n",
            "Epoch 4/30\n",
            "300/300 [==============================] - 3s 10ms/step - loss: 0.0564 - accuracy: 0.9829 - val_loss: 0.0337 - val_accuracy: 0.9893\n",
            "Epoch 5/30\n",
            "300/300 [==============================] - 3s 10ms/step - loss: 0.0455 - accuracy: 0.9856 - val_loss: 0.0294 - val_accuracy: 0.9905\n",
            "Epoch 6/30\n",
            "300/300 [==============================] - 3s 10ms/step - loss: 0.0397 - accuracy: 0.9877 - val_loss: 0.0307 - val_accuracy: 0.9896\n",
            "Epoch 7/30\n",
            "300/300 [==============================] - 3s 10ms/step - loss: 0.0340 - accuracy: 0.9887 - val_loss: 0.0298 - val_accuracy: 0.9908\n",
            "Epoch 8/30\n",
            "300/300 [==============================] - 3s 10ms/step - loss: 0.0331 - accuracy: 0.9899 - val_loss: 0.0285 - val_accuracy: 0.9909\n",
            "Epoch 9/30\n",
            "300/300 [==============================] - 3s 10ms/step - loss: 0.0280 - accuracy: 0.9914 - val_loss: 0.0286 - val_accuracy: 0.9915\n",
            "Epoch 10/30\n",
            "300/300 [==============================] - 3s 10ms/step - loss: 0.0266 - accuracy: 0.9915 - val_loss: 0.0291 - val_accuracy: 0.9913\n",
            "Epoch 11/30\n",
            "300/300 [==============================] - 3s 10ms/step - loss: 0.0240 - accuracy: 0.9920 - val_loss: 0.0294 - val_accuracy: 0.9909\n",
            "Epoch 12/30\n",
            "300/300 [==============================] - 3s 10ms/step - loss: 0.0228 - accuracy: 0.9919 - val_loss: 0.0289 - val_accuracy: 0.9912\n",
            "Epoch 13/30\n",
            "300/300 [==============================] - 3s 10ms/step - loss: 0.0213 - accuracy: 0.9930 - val_loss: 0.0259 - val_accuracy: 0.9927\n",
            "Epoch 14/30\n",
            "300/300 [==============================] - 3s 10ms/step - loss: 0.0183 - accuracy: 0.9940 - val_loss: 0.0257 - val_accuracy: 0.9925\n",
            "Epoch 15/30\n",
            "300/300 [==============================] - 3s 10ms/step - loss: 0.0187 - accuracy: 0.9934 - val_loss: 0.0328 - val_accuracy: 0.9912\n",
            "Epoch 16/30\n",
            "300/300 [==============================] - 3s 10ms/step - loss: 0.0160 - accuracy: 0.9945 - val_loss: 0.0285 - val_accuracy: 0.9929\n",
            "Epoch 17/30\n",
            "300/300 [==============================] - 3s 10ms/step - loss: 0.0159 - accuracy: 0.9945 - val_loss: 0.0275 - val_accuracy: 0.9935\n",
            "Epoch 18/30\n",
            "300/300 [==============================] - 3s 10ms/step - loss: 0.0140 - accuracy: 0.9951 - val_loss: 0.0297 - val_accuracy: 0.9926\n",
            "Epoch 19/30\n",
            "300/300 [==============================] - 3s 10ms/step - loss: 0.0155 - accuracy: 0.9943 - val_loss: 0.0268 - val_accuracy: 0.9924\n",
            "Epoch 20/30\n",
            "300/300 [==============================] - 3s 10ms/step - loss: 0.0137 - accuracy: 0.9961 - val_loss: 0.0310 - val_accuracy: 0.9923\n",
            "Epoch 21/30\n",
            "300/300 [==============================] - 3s 10ms/step - loss: 0.0145 - accuracy: 0.9950 - val_loss: 0.0276 - val_accuracy: 0.9936\n",
            "Epoch 22/30\n",
            "300/300 [==============================] - 3s 10ms/step - loss: 0.0142 - accuracy: 0.9949 - val_loss: 0.0294 - val_accuracy: 0.9934\n",
            "Epoch 23/30\n",
            "300/300 [==============================] - 3s 10ms/step - loss: 0.0140 - accuracy: 0.9956 - val_loss: 0.0311 - val_accuracy: 0.9924\n",
            "Epoch 24/30\n",
            "300/300 [==============================] - 3s 10ms/step - loss: 0.0120 - accuracy: 0.9962 - val_loss: 0.0266 - val_accuracy: 0.9938\n",
            "313/313 [==============================] - 1s 2ms/step - loss: 0.0266 - accuracy: 0.9938\n",
            "Test Accuracy: 0.9938\n"
          ],
          "name": "stdout"
        }
      ]
    },
    {
      "cell_type": "markdown",
      "metadata": {
        "id": "HaD_mfjuJN_-"
      },
      "source": [
        "*   정확도 : 0.98 -> 0.99\r\n"
      ]
    },
    {
      "cell_type": "code",
      "metadata": {
        "colab": {
          "base_uri": "https://localhost:8080/",
          "height": 279
        },
        "id": "WejAqOBWgUR2",
        "outputId": "aa477999-9282-4754-a0f9-f0ebd2b2b0fb"
      },
      "source": [
        "plt.plot(history.history['val_loss'], marker='.', c=\"red\", label='Testset_loss')\r\n",
        "plt.plot(history.history['loss'], marker='.', c=\"blue\", label='Trainset_loss')\r\n",
        "\r\n",
        "plt.legend(loc='upper right')\r\n",
        "plt.grid()\r\n",
        "plt.xlabel('Epoch')\r\n",
        "plt.ylabel('Loss')\r\n",
        "plt.show()"
      ],
      "execution_count": 12,
      "outputs": [
        {
          "output_type": "display_data",
          "data": {
            "image/png": "[encoded data removed]",
            "text/plain": [
              "<Figure size 432x288 with 1 Axes>"
            ]
          },
          "metadata": {
            "tags": [],
            "needs_background": "light"
          }
        }
      ]
    }
  ]
}