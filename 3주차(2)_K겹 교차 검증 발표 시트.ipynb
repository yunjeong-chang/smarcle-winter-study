{
  "nbformat": 4,
  "nbformat_minor": 0,
  "metadata": {
    "colab": {
      "name": "K겹 교차 검증 발표.ipynb",
      "provenance": [],
      "collapsed_sections": [],
      "authorship_tag": "ABX9TyMpOyN7Y6iA9VaRfm1HsaCh",
      "include_colab_link": true
    },
    "kernelspec": {
      "name": "python3",
      "display_name": "Python 3"
    }
  },
  "cells": [
    {
      "cell_type": "markdown",
      "metadata": {
        "id": "view-in-github",
        "colab_type": "text"
      },
      "source": [
        "<a href=\"https://colab.research.google.com/github/yunjeong-chang/smarcle-winter-study/blob/main/K%EA%B2%B9%20%EA%B5%90%EC%B0%A8%20%EA%B2%80%EC%A6%9D%20%EB%B0%9C%ED%91%9C%20%EC%8B%9C%ED%8A%B8.ipynb\" target=\"_parent\"><img src=\"https://colab.research.google.com/assets/colab-badge.svg\" alt=\"Open In Colab\"/></a>"
      ]
    },
    {
      "cell_type": "markdown",
      "metadata": {
        "id": "dgOaV3wF_mWd"
      },
      "source": [
        "\r\n",
        "<13장 과적합 피하기 中 초음파 광물 예측하기 : K겹 교차 검증>"
      ]
    },
    {
      "cell_type": "code",
      "metadata": {
        "id": "B1HyEf9-_iiX"
      },
      "source": [
        "import tensorflow as tf\r\n",
        "import pandas as pd\r\n",
        "import numpy as np\r\n",
        "import matplotlib as mpl\r\n",
        "from matplotlib import pyplot as plt\r\n",
        "\r\n",
        "from keras.models import Sequential\r\n",
        "from keras.layers.core import Dense\r\n",
        "from sklearn.preprocessing import LabelEncoder\r\n",
        "from sklearn.model_selection import StratifiedKFold\r\n",
        "\r\n",
        "# seed 값 설정\r\n",
        "seed = 0\r\n",
        "np.random.seed(seed)\r\n",
        "tf.compat.v1.set_random_seed(3)\r\n",
        "\r\n",
        "# 데이터 적용\r\n",
        "dataset = pd.read_csv('sonar.csv', header=None)\r\n",
        "\r\n",
        "X = dataset.iloc[:,:-1]\r\n",
        "Y_obj = dataset.iloc[:,-1]\r\n",
        "\r\n",
        "# 문자열 변환\r\n",
        "e = LabelEncoder()\r\n",
        "e.fit(Y_obj)\r\n",
        "Y = e.transform(Y_obj)"
      ],
      "execution_count": null,
      "outputs": []
    },
    {
      "cell_type": "markdown",
      "metadata": {
        "id": "ZS5xfqlI_u2J"
      },
      "source": [
        "\"여기까지는 앞의 실습과 내용 동일\"\r\n",
        "\r\n",
        "\r\n",
        "---\r\n",
        "\" K겹 교차 검증에 필요한 코드 시작! \"\r\n",
        "\r\n",
        "*   K = 10 으로 설정\r\n",
        "*   StratifiedKFold() 함수 : 데이터를 원하는 숫자만큼 쪼개 각각 학습셋과 테스트셋으로 사용하게 만드는 함수\r\n",
        "> 1. n_splits : 몇 개로 분할 할 지\r\n",
        "  2. shuffle : fold를 나누기 전 무작위로 섞어 줌\r\n",
        "  3. random_state : 난수 발생을 위한 seed의 인자값"
      ]
    },
    {
      "cell_type": "code",
      "metadata": {
        "id": "uwmWgkbn_wJm"
      },
      "source": [
        "# 10개의 파일로 쪼갬\r\n",
        "n_fold = 10\r\n",
        "\r\n",
        "#계층화 K겹 교차 검증\r\n",
        "skf = StratifiedKFold(n_splits = n_fold, shuffle= True, random_state= seed)\r\n",
        "\r\n",
        "# 빈 accuracy 배열 (각 폴드 별 정확도를 이 배열에 모아 한 번에 보여줄 수 있게)\r\n",
        "accuracy = []\r\n",
        "\r\n",
        "# sum_accuracy 생성 (후에 정확도의 평균 구하기 위해)\r\n",
        "sum_accuracy = 0"
      ],
      "execution_count": null,
      "outputs": []
    },
    {
      "cell_type": "markdown",
      "metadata": {
        "id": "QMkrjn24_1eH"
      },
      "source": [
        "*  for 구문 : 모델을 만들고 실행하는 부분을 for문으로 묶어 n_fold = 10 만큼 반복되게 함\r\n",
        "*  model.fit(x, y, epochs, batch_size) 함수 : 모델 학습 시키는 함수\r\n",
        "> *   x : 입력 데이터\r\n",
        "  *   y : 값\r\n",
        "  * epochs : 학습 반복 횟수\r\n",
        "  * batch_size : 몇 문항을 풀고 해답을 맞춰볼지 -> 가중치 갱신\r\n",
        "\r\n",
        "*   model.evalate(x, y) 함수 : 테스트셋으로 모델 평가하는 함수\r\n",
        "\r\n"
      ]
    },
    {
      "cell_type": "code",
      "metadata": {
        "id": "Zq7X-UjawUGa"
      },
      "source": [
        "for train, test in skf.split(X, Y):\r\n",
        "  #print(train)\r\n",
        "  #print(test)"
      ],
      "execution_count": null,
      "outputs": []
    },
    {
      "cell_type": "code",
      "metadata": {
        "id": "clmQ6_jh_6AF"
      },
      "source": [
        "# 모델의 설정, 컴파일, 실행\r\n",
        "for train, test in skf.split(X, Y): #주어진 데이터를 학습셋과 테스트셋으로 분리\r\n",
        "\r\n",
        "    model = Sequential()                                           #여기서 부터\r\n",
        "    model.add(Dense(24, input_dim=60, activation='relu'))\r\n",
        "    model.add(Dense(10, activation='relu'))\r\n",
        "    model.add(Dense(1, activation='sigmoid'))\r\n",
        "    model.compile(loss='mean_squared_error', optimizer='adam', metrics=['accuracy']) #여기까지는 앞의 실습 코드와 동일\r\n",
        "\r\n",
        "   # 학습셋을 이용하여 학습시키기\r\n",
        "    model.fit(X.iloc[train], Y[train], epochs= 100, batch_size= 5)       \r\n",
        "    \r\n",
        "   # 테스트셋을 이용하여 검증\r\n",
        "    k_accuracy = \"%.4f\" % (model.evaluate(X.iloc[test], Y[test])[1])      \r\n",
        "\r\n",
        "   # 검증한 결과 accuracy 배열에 추가\r\n",
        "    accuracy.append(k_accuracy)\r\n",
        "\r\n",
        "   # 검증한 결과 float으로 변환하여 합하기\r\n",
        "    sum_accuracy += float(k_accuracy)"
      ],
      "execution_count": null,
      "outputs": []
    },
    {
      "cell_type": "code",
      "metadata": {
        "id": "vSjd2TI5AGlb"
      },
      "source": [
        "# 결과 출력\r\n",
        "print(\"%.f fold accuracy: \" %n_fold, accuracy)"
      ],
      "execution_count": null,
      "outputs": []
    },
    {
      "cell_type": "code",
      "metadata": {
        "id": "dFPynmD3AHU0"
      },
      "source": [
        "# 결과에 따른 평균 정확도 구하기\r\n",
        "print(\"각 정확도의 합:\", sum_accuracy)\r\n",
        "print(\"\\n최종 평균 정확도: %.4f\" %(sum_accuracy/len(accuracy)))\r\n",
        "print(\"\\n최종 평균 정확도: %.4f\" %(np.mean(np.array(accuracy).astype(float))))"
      ],
      "execution_count": null,
      "outputs": []
    }
  ]
}
