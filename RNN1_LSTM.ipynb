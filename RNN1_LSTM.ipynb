{
  "nbformat": 4,
  "nbformat_minor": 0,
  "metadata": {
    "accelerator": "GPU",
    "colab": {
      "name": "RNN1_LSTM.ipynb",
      "provenance": [],
      "include_colab_link": true
    },
    "kernelspec": {
      "display_name": "Python 3",
      "language": "python",
      "name": "python3"
    },
    "language_info": {
      "codemirror_mode": {
        "name": "ipython",
        "version": 3
      },
      "file_extension": ".py",
      "mimetype": "text/x-python",
      "name": "python",
      "nbconvert_exporter": "python",
      "pygments_lexer": "ipython3",
      "version": "3.7.3"
    }
  },
  "cells": [
    {
      "cell_type": "markdown",
      "metadata": {
        "id": "view-in-github",
        "colab_type": "text"
      },
      "source": [
        "<a href=\"https://colab.research.google.com/github/yunjeong-chang/smarcle-winter-study/blob/main/RNN1_LSTM.ipynb\" target=\"_parent\"><img src=\"https://colab.research.google.com/assets/colab-badge.svg\" alt=\"Open In Colab\"/></a>"
      ]
    },
    {
      "cell_type": "markdown",
      "metadata": {
        "id": "GE6aK4yzTXwZ"
      },
      "source": [
        "<LSTM을 이용한 로이터 뉴스 카테고리 분류하기>\r\n",
        "\r\n",
        "*   긴 텍스트를 읽고 데이터가 어떤 의미를 지니는지 카테고리로 분류하는 것\r\n",
        "\r\n"
      ]
    },
    {
      "cell_type": "code",
      "metadata": {
        "colab": {
          "base_uri": "https://localhost:8080/"
        },
        "id": "mjTKHIHWog5k",
        "outputId": "4294cb34-b4bf-4ba4-adab-1e221130c4ad"
      },
      "source": [
        "import tensorflow as tf\n",
        "import matplotlib.pyplot as plt\n",
        "import numpy\n",
        "import os\n",
        "\n",
        "# 로이터 뉴스 데이터셋 불러오기 \n",
        "from keras.datasets import reuters #(총 11,228개의 뉴스 기사가 46개의 카테고리로 나누어진 대용량 텍스트 데이터)\n",
        "from keras.models import Sequential\n",
        "from keras.layers import Dense, LSTM, Embedding\n",
        "from keras.preprocessing import sequence\n",
        "from keras.utils import np_utils\n",
        "\n",
        "# seed 값 설정\n",
        "seed = 0\n",
        "numpy.random.seed(seed)\n",
        "tf.compat.v1.set_random_seed(3)\n",
        "\n",
        "# 불러온 데이터를 학습셋, 테스트셋으로 나누기\n",
        "(X_train, Y_train), (X_test, Y_test) = reuters.load_data(num_words=1000, test_split=0.2)\n",
        "\n",
        "# 데이터 확인하기\n",
        "category = numpy.max(Y_train) + 1\n",
        "print(category, '카테고리')\n",
        "print(len(X_train), '학습용 뉴스 기사')\n",
        "print(len(X_test), '테스트용 뉴스 기사')\n",
        "print(X_train[0])"
      ],
      "execution_count": null,
      "outputs": [
        {
          "output_type": "stream",
          "text": [
            "Downloading data from https://storage.googleapis.com/tensorflow/tf-keras-datasets/reuters.npz\n",
            "2113536/2110848 [==============================] - 0s 0us/step\n",
            "46 카테고리\n",
            "8982 학습용 뉴스 기사\n",
            "2246 테스트용 뉴스 기사\n",
            "[1, 2, 2, 8, 43, 10, 447, 5, 25, 207, 270, 5, 2, 111, 16, 369, 186, 90, 67, 7, 89, 5, 19, 102, 6, 19, 124, 15, 90, 67, 84, 22, 482, 26, 7, 48, 4, 49, 8, 864, 39, 209, 154, 6, 151, 6, 83, 11, 15, 22, 155, 11, 15, 7, 48, 9, 2, 2, 504, 6, 258, 6, 272, 11, 15, 22, 134, 44, 11, 15, 16, 8, 197, 2, 90, 67, 52, 29, 209, 30, 32, 132, 6, 109, 15, 17, 12]\n"
          ],
          "name": "stdout"
        },
        {
          "output_type": "stream",
          "text": [
            "/usr/local/lib/python3.6/dist-packages/tensorflow/python/keras/datasets/reuters.py:148: VisibleDeprecationWarning: Creating an ndarray from ragged nested sequences (which is a list-or-tuple of lists-or-tuples-or ndarrays with different lengths or shapes) is deprecated. If you meant to do this, you must specify 'dtype=object' when creating the ndarray\n",
            "  x_train, y_train = np.array(xs[:idx]), np.array(labels[:idx])\n",
            "/usr/local/lib/python3.6/dist-packages/tensorflow/python/keras/datasets/reuters.py:149: VisibleDeprecationWarning: Creating an ndarray from ragged nested sequences (which is a list-or-tuple of lists-or-tuples-or ndarrays with different lengths or shapes) is deprecated. If you meant to do this, you must specify 'dtype=object' when creating the ndarray\n",
            "  x_test, y_test = np.array(xs[idx:]), np.array(labels[idx:])\n"
          ],
          "name": "stderr"
        }
      ]
    },
    {
      "cell_type": "code",
      "metadata": {
        "colab": {
          "background_save": true,
          "base_uri": "https://localhost:8080/",
          "height": 1000
        },
        "id": "77DI2mTaog5p",
        "outputId": "a907e6fb-51dd-4d62-b14a-f21ff1f43f87"
      },
      "source": [
        "\r\n",
        "# 데이터 전처리\r\n",
        "x_train = sequence.pad_sequences(X_train, maxlen=100)\r\n",
        "x_test = sequence.pad_sequences(X_test, maxlen=100)\r\n",
        "y_train = np_utils.to_categorical(Y_train)\r\n",
        "y_test = np_utils.to_categorical(Y_test)\r\n",
        "\r\n",
        "# 모델의 설정\r\n",
        "model = Sequential()\r\n",
        "model.add(Embedding(1000, 100))\r\n",
        "model.add(LSTM(100, activation='tanh'))\r\n",
        "model.add(Dense(46, activation='softmax'))\r\n",
        "\r\n",
        "# 모델의 컴파일\r\n",
        "model.compile(loss='categorical_crossentropy',\r\n",
        "            optimizer='adam',\r\n",
        "            metrics=['accuracy'])\r\n",
        "\r\n",
        "# 모델의 실행\r\n",
        "history = model.fit(x_train, y_train, batch_size=100, epochs=20, validation_data=(x_test, y_test))\r\n",
        "\r\n",
        "# 테스트 정확도 출력\r\n",
        "print(\"\\n Test Accuracy: %.4f\" % (model.evaluate(x_test, y_test)[1]))\r\n",
        "\r\n",
        "\r\n",
        "# 테스트 셋의 오차\r\n",
        "y_vloss = history.history['val_loss']\r\n",
        "\r\n",
        "# 학습셋의 오차\r\n",
        "y_loss = history.history['loss']\r\n",
        "\r\n",
        "# 그래프로 표현\r\n",
        "x_len = numpy.arange(len(y_loss))\r\n",
        "plt.plot(x_len, y_vloss, marker='.', c=\"red\", label='Testset_loss')\r\n",
        "plt.plot(x_len, y_loss, marker='.', c=\"blue\", label='Trainset_loss')\r\n",
        "\r\n",
        "# 그래프에 그리드를 주고 레이블을 표시\r\n",
        "plt.legend(loc='upper right')\r\n",
        "plt.grid()\r\n",
        "plt.xlabel('epoch')\r\n",
        "plt.ylabel('loss')\r\n",
        "plt.show()\r\n"
      ],
      "execution_count": null,
      "outputs": [
        {
          "output_type": "stream",
          "text": [
            "WARNING:tensorflow:From /tensorflow-1.15.2/python3.6/tensorflow_core/python/ops/resource_variable_ops.py:1630: calling BaseResourceVariable.__init__ (from tensorflow.python.ops.resource_variable_ops) with constraint is deprecated and will be removed in a future version.\n",
            "Instructions for updating:\n",
            "If using Keras pass *_constraint arguments to layers.\n",
            "WARNING:tensorflow:From /tensorflow-1.15.2/python3.6/keras/backend/tensorflow_backend.py:422: The name tf.global_variables is deprecated. Please use tf.compat.v1.global_variables instead.\n",
            "\n",
            "Train on 8982 samples, validate on 2246 samples\n",
            "Epoch 1/20\n",
            "8982/8982 [==============================] - 28s 3ms/step - loss: 2.5409 - accuracy: 0.3743 - val_loss: 2.0280 - val_accuracy: 0.4987\n",
            "Epoch 2/20\n",
            "8982/8982 [==============================] - 27s 3ms/step - loss: 1.9326 - accuracy: 0.4902 - val_loss: 1.8743 - val_accuracy: 0.4907\n",
            "Epoch 3/20\n",
            "8982/8982 [==============================] - 27s 3ms/step - loss: 1.8036 - accuracy: 0.5203 - val_loss: 1.7567 - val_accuracy: 0.5432\n",
            "Epoch 4/20\n",
            "8982/8982 [==============================] - 27s 3ms/step - loss: 1.7092 - accuracy: 0.5520 - val_loss: 1.7340 - val_accuracy: 0.5637\n",
            "Epoch 5/20\n",
            "8982/8982 [==============================] - 27s 3ms/step - loss: 1.6443 - accuracy: 0.5775 - val_loss: 1.6807 - val_accuracy: 0.5712\n",
            "Epoch 6/20\n",
            "8982/8982 [==============================] - 27s 3ms/step - loss: 1.5496 - accuracy: 0.6031 - val_loss: 1.5587 - val_accuracy: 0.6055\n",
            "Epoch 7/20\n",
            "8982/8982 [==============================] - 27s 3ms/step - loss: 1.4161 - accuracy: 0.6367 - val_loss: 1.4774 - val_accuracy: 0.6247\n",
            "Epoch 8/20\n",
            "8982/8982 [==============================] - 27s 3ms/step - loss: 1.3299 - accuracy: 0.6605 - val_loss: 1.4348 - val_accuracy: 0.6345\n",
            "Epoch 9/20\n",
            "8982/8982 [==============================] - 27s 3ms/step - loss: 1.2697 - accuracy: 0.6775 - val_loss: 1.3779 - val_accuracy: 0.6545\n",
            "Epoch 10/20\n",
            "8982/8982 [==============================] - 27s 3ms/step - loss: 1.1835 - accuracy: 0.6949 - val_loss: 1.3381 - val_accuracy: 0.6687\n",
            "Epoch 11/20\n",
            "8982/8982 [==============================] - 27s 3ms/step - loss: 1.1194 - accuracy: 0.7157 - val_loss: 1.3225 - val_accuracy: 0.6781\n",
            "Epoch 12/20\n",
            "8982/8982 [==============================] - 27s 3ms/step - loss: 1.0726 - accuracy: 0.7273 - val_loss: 1.2760 - val_accuracy: 0.6843\n",
            "Epoch 13/20\n",
            "8982/8982 [==============================] - 33s 4ms/step - loss: 1.0237 - accuracy: 0.7391 - val_loss: 1.2620 - val_accuracy: 0.6950\n",
            "Epoch 14/20\n",
            "8982/8982 [==============================] - 27s 3ms/step - loss: 0.9823 - accuracy: 0.7506 - val_loss: 1.3131 - val_accuracy: 0.6946\n",
            "Epoch 15/20\n",
            "8982/8982 [==============================] - 27s 3ms/step - loss: 0.9451 - accuracy: 0.7626 - val_loss: 1.2989 - val_accuracy: 0.6817\n",
            "Epoch 16/20\n",
            "8982/8982 [==============================] - 26s 3ms/step - loss: 0.9092 - accuracy: 0.7658 - val_loss: 1.2655 - val_accuracy: 0.6986\n",
            "Epoch 17/20\n",
            "8982/8982 [==============================] - 26s 3ms/step - loss: 0.8869 - accuracy: 0.7738 - val_loss: 1.2181 - val_accuracy: 0.7008\n",
            "Epoch 18/20\n",
            "8982/8982 [==============================] - 26s 3ms/step - loss: 0.8405 - accuracy: 0.7877 - val_loss: 1.2469 - val_accuracy: 0.7066\n",
            "Epoch 19/20\n",
            "8982/8982 [==============================] - 26s 3ms/step - loss: 0.8033 - accuracy: 0.7965 - val_loss: 1.2693 - val_accuracy: 0.7026\n",
            "Epoch 20/20\n",
            "8982/8982 [==============================] - 27s 3ms/step - loss: 0.7758 - accuracy: 0.8045 - val_loss: 1.2119 - val_accuracy: 0.7195\n",
            "2246/2246 [==============================] - 2s 696us/step\n",
            "\n",
            " Test Accuracy: 0.7195\n"
          ],
          "name": "stdout"
        },
        {
          "output_type": "display_data",
          "data": {
            "image/png": "[encoded data removed]",
            "text/plain": [
              "<Figure size 432x288 with 1 Axes>"
            ]
          },
          "metadata": {
            "tags": []
          }
        }
      ]
    }
  ]
}