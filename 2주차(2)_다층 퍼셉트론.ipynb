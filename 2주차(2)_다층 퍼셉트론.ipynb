{
  "nbformat": 4,
  "nbformat_minor": 0,
  "metadata": {
    "colab": {
      "name": "다층 퍼셉트론.ipynb",
      "provenance": [],
      "authorship_tag": "ABX9TyPbsiLXBmPv0Z1xSPY2pUGm",
      "include_colab_link": true
    },
    "kernelspec": {
      "name": "python3",
      "display_name": "Python 3"
    }
  },
  "cells": [
    {
      "cell_type": "markdown",
      "metadata": {
        "id": "view-in-github",
        "colab_type": "text"
      },
      "source": [
        "<a href=\"https://colab.research.google.com/github/yunjeong-chang/smarcle-winter-study/blob/main/%EB%8B%A4%EC%B8%B5_%ED%8D%BC%EC%85%89%ED%8A%B8%EB%A1%A0.ipynb\" target=\"_parent\"><img src=\"https://colab.research.google.com/assets/colab-badge.svg\" alt=\"Open In Colab\"/></a>"
      ]
    },
    {
      "cell_type": "markdown",
      "metadata": {
        "id": "QDxVvtmQgjIQ"
      },
      "source": [
        "<7장 다층 퍼셉트론 中 다층 퍼셉트론으로 XOR 문제 해결하기>"
      ]
    },
    {
      "cell_type": "code",
      "metadata": {
        "id": "5M0Gz7ITgfQ5"
      },
      "source": [
        "import numpy as np\r\n",
        "\r\n",
        "#가중치와 바이어스 선언\r\n",
        "w11 = np.array([-2, -2])\r\n",
        "w12 = np.array([2, 2])\r\n",
        "w2 = np.array([1, 1])\r\n",
        "\r\n",
        "b1 = 3\r\n",
        "b2 = -1\r\n",
        "b3 = -1"
      ],
      "execution_count": 1,
      "outputs": []
    },
    {
      "cell_type": "code",
      "metadata": {
        "id": "NdeTRhvZoe-N"
      },
      "source": [
        "#퍼셉트론\r\n",
        "def MLP(x, w, b):\r\n",
        "  y = np.sum(w * x) + b\r\n",
        "  if y <= 0:\r\n",
        "    return 0\r\n",
        "  else:\r\n",
        "    return 1"
      ],
      "execution_count": 2,
      "outputs": []
    },
    {
      "cell_type": "code",
      "metadata": {
        "id": "uuzJlytdovsS"
      },
      "source": [
        "#NAND 게이트\r\n",
        "def NAND(x1, x2):\r\n",
        "  return MLP(np.array([x1, x2]), w11, b1)\r\n",
        "\r\n",
        "#OR 게이트\r\n",
        "def OR(x1, x2):\r\n",
        "  return MLP(np.array([x1, x2]), w12, b2)\r\n",
        "\r\n",
        "#AND 게이트\r\n",
        "def AND(x1, x2):\r\n",
        "  return MLP(np.array([x1, x2]), w2, b3)\r\n",
        "\r\n",
        "#XOR 게이트\r\n",
        "def XOR(x1, x2):\r\n",
        "  return AND(NAND(x1, x2), OR(x1, x2))"
      ],
      "execution_count": 3,
      "outputs": []
    },
    {
      "cell_type": "code",
      "metadata": {
        "colab": {
          "base_uri": "https://localhost:8080/"
        },
        "id": "eavQgJJNpT2B",
        "outputId": "94040db2-5716-4bc2-d3a1-a8764d188bd1"
      },
      "source": [
        "#x1, x2 값을 번갈아 대입하며 최종값 출력\r\n",
        "if __name__ == '__main__':\r\n",
        "  for x in [(0, 0), (1, 0), (0, 1), (1, 1)]:\r\n",
        "    y = XOR(x[0], x[1])\r\n",
        "    print(\"입력 값: \" + str(x) + \"출력 값: \" + str(y))"
      ],
      "execution_count": 4,
      "outputs": [
        {
          "output_type": "stream",
          "text": [
            "입력 값: (0, 0)출력 값: 0\n",
            "입력 값: (1, 0)출력 값: 1\n",
            "입력 값: (0, 1)출력 값: 1\n",
            "입력 값: (1, 1)출력 값: 0\n"
          ],
          "name": "stdout"
        }
      ]
    }
  ]
}
