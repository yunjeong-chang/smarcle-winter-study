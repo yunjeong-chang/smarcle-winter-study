{
  "nbformat": 4,
  "nbformat_minor": 0,
  "metadata": {
    "colab": {
      "name": "MNIST_DATA2.ipynb",
      "provenance": [],
      "authorship_tag": "ABX9TyND6SRLJmqtByJQkgSdbW6K",
      "include_colab_link": true
    },
    "kernelspec": {
      "name": "python3",
      "display_name": "Python 3"
    },
    "accelerator": "GPU"
  },
  "cells": [
    {
      "cell_type": "markdown",
      "metadata": {
        "id": "view-in-github",
        "colab_type": "text"
      },
      "source": [
        "<a href=\"https://colab.research.google.com/github/yunjeong-chang/smarcle-winter-study/blob/main/CNN_MNIST_DATA2.ipynb\" target=\"_parent\"><img src=\"https://colab.research.google.com/assets/colab-badge.svg\" alt=\"Open In Colab\"/></a>"
      ]
    },
    {
      "cell_type": "code",
      "metadata": {
        "id": "3enybjIZeFaM"
      },
      "source": [
        "from keras.datasets import mnist\r\n",
        "from keras.utils import np_utils\r\n",
        "from keras.models import Sequential\r\n",
        "from keras.layers import Dense, Dropout, Flatten, Conv2D, MaxPooling2D\r\n",
        "from keras.callbacks import ModelCheckpoint, EarlyStopping\r\n",
        "\r\n",
        "import pandas as pd\r\n",
        "import numpy as np\r\n",
        "import sys\r\n",
        "import tensorflow as tf\r\n",
        "import matplotlib.pyplot as plt\r\n",
        "import os\r\n",
        "\r\n",
        "seed = 0\r\n",
        "np.random.seed(seed)\r\n",
        "tf.compat.v1.set_random_seed(3)"
      ],
      "execution_count": null,
      "outputs": []
    },
    {
      "cell_type": "code",
      "metadata": {
        "id": "jQXRn1foeMeR",
        "colab": {
          "base_uri": "https://localhost:8080/"
        },
        "outputId": "e4dca1be-a8dd-4d4c-8f2c-cca8825d6f56"
      },
      "source": [
        "#MNIST 데이터 불러오기\r\n",
        "(X_train, Y_class_train), (X_test, Y_class_test) = mnist.load_data()\r\n",
        "\r\n",
        "#차원 변환 과정\r\n",
        "X_train = X_train.reshape(X_train.shape[0], 28, 28, 1).astype('float32') / 255\r\n",
        "X_test = X_test.reshape(X_test.shape[0], 28, 28, 1).astype('float32') / 255\r\n",
        "\r\n",
        "#바이너리화 과정\r\n",
        "Y_train = np_utils.to_categorical(Y_class_train, 10)\r\n",
        "Y_test = np_utils.to_categorical(Y_class_test, 10)"
      ],
      "execution_count": null,
      "outputs": [
        {
          "output_type": "stream",
          "text": [
            "Downloading data from https://storage.googleapis.com/tensorflow/tf-keras-datasets/mnist.npz\n",
            "11493376/11490434 [==============================] - 0s 0us/step\n"
          ],
          "name": "stdout"
        }
      ]
    },
    {
      "cell_type": "code",
      "metadata": {
        "id": "4cR_k52kehxz"
      },
      "source": [
        "# 컨볼루션 신경망의 설정\r\n",
        "model = Sequential()\r\n",
        "model.add(Conv2D(32, kernel_size=(3, 3), input_shape=(28, 28, 1), activation='relu'))\r\n",
        "model.add(Conv2D(64, (3, 3), activation='relu'))\r\n",
        "model.add(MaxPooling2D(pool_size=2))\r\n",
        "model.add(Dropout(0.25))\r\n",
        "model.add(Flatten())\r\n",
        "model.add(Dense(128,  activation='relu'))\r\n",
        "model.add(Dropout(0.5))\r\n",
        "model.add(Dense(10, activation='softmax'))\r\n",
        "\r\n",
        "#모델 실행 환경 설정\r\n",
        "model.compile(loss='categorical_crossentropy', optimizer='adam', metrics=['accuracy'])"
      ],
      "execution_count": null,
      "outputs": []
    },
    {
      "cell_type": "code",
      "metadata": {
        "id": "GMoxtYFSeySb"
      },
      "source": [
        "# 모델 최적화 설정\r\n",
        "MODEL_DIR = './model/'\r\n",
        "if not os.path.exists(MODEL_DIR):\r\n",
        "    os.mkdir(MODEL_DIR)\r\n",
        "\r\n",
        "modelpath=\"./model/{epoch:02d}-{val_loss:.4f}.hdf5\"\r\n",
        "checkpointer = ModelCheckpoint(filepath=modelpath, monitor='val_loss', verbose=1, save_best_only=True)\r\n",
        "early_stopping_callback = EarlyStopping(monitor='val_loss', patience=10)"
      ],
      "execution_count": null,
      "outputs": []
    },
    {
      "cell_type": "code",
      "metadata": {
        "id": "7w2ciswAe1Kk",
        "colab": {
          "base_uri": "https://localhost:8080/"
        },
        "outputId": "046428be-26b0-4f08-9079-447c7c31fc61"
      },
      "source": [
        "# 모델의 실행\r\n",
        "history = model.fit(X_train, Y_train, validation_data=(X_test, Y_test), epochs=30, batch_size=200, verbose=0, callbacks=[early_stopping_callback,checkpointer])"
      ],
      "execution_count": null,
      "outputs": [
        {
          "output_type": "stream",
          "text": [
            "\n",
            "Epoch 00001: val_loss improved from inf to 0.05332, saving model to ./model/01-0.0533.hdf5\n",
            "\n",
            "Epoch 00002: val_loss improved from 0.05332 to 0.03941, saving model to ./model/02-0.0394.hdf5\n",
            "\n",
            "Epoch 00003: val_loss improved from 0.03941 to 0.03689, saving model to ./model/03-0.0369.hdf5\n",
            "\n",
            "Epoch 00004: val_loss improved from 0.03689 to 0.03296, saving model to ./model/04-0.0330.hdf5\n",
            "\n",
            "Epoch 00005: val_loss improved from 0.03296 to 0.03160, saving model to ./model/05-0.0316.hdf5\n",
            "\n",
            "Epoch 00006: val_loss improved from 0.03160 to 0.03141, saving model to ./model/06-0.0314.hdf5\n",
            "\n",
            "Epoch 00007: val_loss improved from 0.03141 to 0.03062, saving model to ./model/07-0.0306.hdf5\n",
            "\n",
            "Epoch 00008: val_loss did not improve from 0.03062\n",
            "\n",
            "Epoch 00009: val_loss did not improve from 0.03062\n",
            "\n",
            "Epoch 00010: val_loss did not improve from 0.03062\n",
            "\n",
            "Epoch 00011: val_loss improved from 0.03062 to 0.02771, saving model to ./model/11-0.0277.hdf5\n",
            "\n",
            "Epoch 00012: val_loss improved from 0.02771 to 0.02631, saving model to ./model/12-0.0263.hdf5\n",
            "\n",
            "Epoch 00013: val_loss improved from 0.02631 to 0.02521, saving model to ./model/13-0.0252.hdf5\n",
            "\n",
            "Epoch 00014: val_loss did not improve from 0.02521\n",
            "\n",
            "Epoch 00015: val_loss did not improve from 0.02521\n",
            "\n",
            "Epoch 00016: val_loss did not improve from 0.02521\n",
            "\n",
            "Epoch 00017: val_loss did not improve from 0.02521\n",
            "\n",
            "Epoch 00018: val_loss did not improve from 0.02521\n",
            "\n",
            "Epoch 00019: val_loss did not improve from 0.02521\n",
            "\n",
            "Epoch 00020: val_loss did not improve from 0.02521\n",
            "\n",
            "Epoch 00021: val_loss did not improve from 0.02521\n",
            "\n",
            "Epoch 00022: val_loss did not improve from 0.02521\n",
            "\n",
            "Epoch 00023: val_loss did not improve from 0.02521\n"
          ],
          "name": "stdout"
        }
      ]
    },
    {
      "cell_type": "code",
      "metadata": {
        "id": "35wYLKDzg1df",
        "colab": {
          "base_uri": "https://localhost:8080/"
        },
        "outputId": "0a7820f1-ff5c-4256-f5cf-0ff02f1c535b"
      },
      "source": [
        "#테스트셋 정확도 출력\r\n",
        "print(\"Test Accuracy: %.4f\" %(model.evaluate(X_test, Y_test)[1]))"
      ],
      "execution_count": null,
      "outputs": [
        {
          "output_type": "stream",
          "text": [
            "313/313 [==============================] - 1s 2ms/step - loss: 0.0290 - accuracy: 0.9928\n",
            "Test Accuracy: 0.9928\n"
          ],
          "name": "stdout"
        }
      ]
    },
    {
      "cell_type": "code",
      "metadata": {
        "id": "LyjtfRF8g3f9"
      },
      "source": [
        "#테스트셋의 오차\r\n",
        "y_vloss = history.history['val_loss']\r\n",
        "#학습셋의 오차\r\n",
        "y_loss = history.history['loss']"
      ],
      "execution_count": null,
      "outputs": []
    },
    {
      "cell_type": "code",
      "metadata": {
        "id": "3j7e3LLpg4ul",
        "colab": {
          "base_uri": "https://localhost:8080/",
          "height": 279
        },
        "outputId": "057bd52a-6de6-49b7-ebc7-d372a403e7a8"
      },
      "source": [
        "#그래프로 표현\r\n",
        "x_len = np.arange(len(y_loss))\r\n",
        "plt.plot(x_len, y_vloss, marker='.', c=\"red\", label='Testset_loss')\r\n",
        "plt.plot(x_len, y_loss, marker='.', c=\"blue\", label='Trainset_loss')\r\n",
        "\r\n",
        "#그래프에 그리드를 주고 레이블을 표시\r\n",
        "plt.legend(loc='upper right')\r\n",
        "plt.grid()\r\n",
        "plt.xlabel('epoch')\r\n",
        "plt.ylabel('loss')\r\n",
        "plt.show()"
      ],
      "execution_count": null,
      "outputs": [
        {
          "output_type": "display_data",
          "data": {
            "image/png": "[encoded data removed]",
            "text/plain": [
              "<Figure size 432x288 with 1 Axes>"
            ]
          },
          "metadata": {
            "tags": [],
            "needs_background": "light"
          }
        }
      ]
    }
  ]
}