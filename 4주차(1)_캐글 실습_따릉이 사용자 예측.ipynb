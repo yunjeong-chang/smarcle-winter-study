{
  "nbformat": 4,
  "nbformat_minor": 0,
  "metadata": {
    "colab": {
      "name": "따릉이_사용자_예측(40.27121).ipynb",
      "provenance": [],
      "collapsed_sections": [],
      "include_colab_link": true
    },
    "kernelspec": {
      "name": "python3",
      "display_name": "Python 3"
    }
  },
  "cells": [
    {
      "cell_type": "markdown",
      "metadata": {
        "id": "view-in-github",
        "colab_type": "text"
      },
      "source": [
        "<a href=\"https://colab.research.google.com/github/yunjeong-chang/smarcle-winter-study/blob/main/%EB%94%B0%EB%A6%89%EC%9D%B4_%EC%82%AC%EC%9A%A9%EC%9E%90_%EC%98%88%EC%B8%A1.ipynb\" target=\"_parent\"><img src=\"https://colab.research.google.com/assets/colab-badge.svg\" alt=\"Open In Colab\"/></a>"
      ]
    },
    {
      "cell_type": "markdown",
      "metadata": {
        "id": "vBOcHuJGvq9Z"
      },
      "source": [
        "**< 따릉이 사용자 예측 문제를 좀 다르게 풀어보자! >**\r\n",
        "\r\n",
        "*   K겹 교차 검증\r\n",
        "*   랜덤 포레스트 회귀\r\n",
        "\r\n",
        "(어차피 모델 돌리는 데에는 다양한 방법이 있고, 이것도 그 중 하나일 뿐..)\r\n",
        "\r\n",
        "\r\n",
        "\r\n",
        "(그래도 해설 영상으로 제공해 준 랜덤포레스트 코드 보다 성능이 좋아졌다!)\r\n"
      ]
    },
    {
      "cell_type": "code",
      "metadata": {
        "id": "U1yPUYr3qmku"
      },
      "source": [
        "import pandas as pd\r\n",
        "import numpy as np\r\n",
        "import tensorflow as tf\r\n",
        "import matplotlib.pyplot as plt\r\n",
        "import seaborn as sns\r\n",
        "\r\n",
        "from sklearn.model_selection import KFold\r\n",
        "from sklearn.model_selection import cross_val_score\r\n",
        "from sklearn.ensemble import RandomForestRegressor\r\n",
        "from sklearn.metrics import mean_squared_error\r\n",
        "from pandas import DataFrame"
      ],
      "execution_count": 409,
      "outputs": []
    },
    {
      "cell_type": "code",
      "metadata": {
        "id": "2rWjaw6FtfBc"
      },
      "source": [
        "#데이터 불러오기\r\n",
        "df_train = pd.read_csv('2020.AI.bike-train.csv')\r\n",
        "df_test = pd.read_csv('2020.AI.bike-test.csv')\r\n",
        "df_submission = pd.read_csv('2020.AI.bike-submission.csv')"
      ],
      "execution_count": 410,
      "outputs": []
    },
    {
      "cell_type": "code",
      "metadata": {
        "id": "OFHmXpLOxUfN"
      },
      "source": [
        "#seed값 설정\r\n",
        "seed = 0\r\n",
        "np.random.seed(3)\r\n",
        "tf.random.set_seed(3)"
      ],
      "execution_count": 411,
      "outputs": []
    },
    {
      "cell_type": "code",
      "metadata": {
        "id": "TNebvc6uxbJi"
      },
      "source": [
        "#학습데이터 슬라이싱\r\n",
        "x_train = df_train.iloc[:,1:-1] \r\n",
        "y_train = df_train.iloc[:,-1]   \r\n",
        "\r\n",
        "#테스트데이터 슬라이싱\r\n",
        "x_test = df_test.iloc[:,1:] "
      ],
      "execution_count": 412,
      "outputs": []
    },
    {
      "cell_type": "markdown",
      "metadata": {
        "id": "9Crq8TR3xyYk"
      },
      "source": [
        "*   kFold 함수 : 몇 개로 분할 할 지, 데이터 분할 전 섞을지\r\n",
        "\r\n",
        "*   RandomForestRegressor 함수 : 회귀분석의 종류 중 하나 (기계학습 : 의사결정트리, 앙상블)\r\n",
        "\r\n",
        "> *   n_estimators : 포레스트에서 트리의 수\r\n",
        "*   random_state : 트리를 만들 때 사용하는 샘플의 무작위성\r\n",
        "\r\n",
        "*   cross_val_score 함수 : k겹 교차 검증을 반복문 없이 쉽게 사용할 수 있게 해주는 함수, 내부적으로는 StratifiedKFold 사용\r\n",
        "\r\n",
        ">*   사용할 모델, 학습 데이터, 타겟 데이터, cv는 분할 설정 값\r\n",
        "\r\n",
        "*   score.mean() : k겹 교차 검증 결과의 평균\r\n"
      ]
    },
    {
      "cell_type": "code",
      "metadata": {
        "id": "HqKLSR9IQ22i",
        "colab": {
          "base_uri": "https://localhost:8080/"
        },
        "outputId": "f2601069-8ace-459c-8a8f-13f344fdce89"
      },
      "source": [
        "kfold = KFold(n_splits=5, shuffle=True)\r\n",
        "\r\n",
        "model = RandomForestRegressor(n_estimators=100, random_state=100)\r\n",
        "\r\n",
        "score = cross_val_score(model, x_train, y_train, cv=kfold)\r\n",
        "\r\n",
        "print(score)\r\n",
        "print(score.mean())"
      ],
      "execution_count": 413,
      "outputs": [
        {
          "output_type": "stream",
          "text": [
            "[0.76907341 0.74885875 0.79751041 0.80081331 0.75212065]\n",
            "0.7736753090871931\n"
          ],
          "name": "stdout"
        }
      ]
    },
    {
      "cell_type": "code",
      "metadata": {
        "id": "CL4EUdXN1qH_",
        "colab": {
          "base_uri": "https://localhost:8080/"
        },
        "outputId": "3a34b1b3-5118-4d9b-f3d8-5567181765b1"
      },
      "source": [
        "model.fit(x_train, y_train)"
      ],
      "execution_count": 400,
      "outputs": [
        {
          "output_type": "execute_result",
          "data": {
            "text/plain": [
              "RandomForestRegressor(bootstrap=True, ccp_alpha=0.0, criterion='mse',\n",
              "                      max_depth=None, max_features='auto', max_leaf_nodes=None,\n",
              "                      max_samples=None, min_impurity_decrease=0.0,\n",
              "                      min_impurity_split=None, min_samples_leaf=1,\n",
              "                      min_samples_split=2, min_weight_fraction_leaf=0.0,\n",
              "                      n_estimators=100, n_jobs=None, oob_score=False,\n",
              "                      random_state=100, verbose=0, warm_start=False)"
            ]
          },
          "metadata": {
            "tags": []
          },
          "execution_count": 400
        }
      ]
    },
    {
      "cell_type": "code",
      "metadata": {
        "id": "UvRR5Xgg6wny",
        "colab": {
          "base_uri": "https://localhost:8080/"
        },
        "outputId": "9115ff54-18e4-471f-987b-fddee647749e"
      },
      "source": [
        "#예측값('count')\r\n",
        "y_test = model.predict(x_test).flatten()\r\n",
        "y_test"
      ],
      "execution_count": 401,
      "outputs": [
        {
          "output_type": "execute_result",
          "data": {
            "text/plain": [
              "array([ 14.9 , 236.32, 134.77,  42.49, 120.9 , 292.95,  29.43, 131.38,\n",
              "       121.35, 118.59,   8.62, 146.67,   9.43,  22.54, 242.82, 113.72,\n",
              "       100.11, 250.09, 118.3 , 150.19, 253.06, 193.75,  32.8 ,  93.86,\n",
              "       225.21,  60.82, 189.21, 146.88, 200.03, 132.07,  13.13,  30.57,\n",
              "        90.07, 185.99,  99.47, 276.82, 106.91, 136.03,  42.63, 162.21,\n",
              "        88.11, 152.95, 141.97, 241.21, 153.48, 215.57, 109.81,  14.56,\n",
              "        89.76,  35.82, 134.73, 235.72,  80.85, 134.96, 221.42,  18.2 ,\n",
              "       119.74,  87.85, 191.95, 255.11, 143.58, 158.04, 102.08,  97.34,\n",
              "        14.17, 144.41, 267.72, 132.13,  21.62,  11.44, 129.39, 234.36,\n",
              "        87.2 , 190.73,  90.  , 106.32, 195.6 ,  15.44, 229.63, 221.56,\n",
              "       129.05, 108.49, 115.89, 161.1 , 227.43, 230.85, 274.58, 108.57,\n",
              "        36.34,  82.12, 103.09,  71.52, 210.72,  18.65,  44.69,  76.96,\n",
              "       188.39, 119.65,  26.91, 254.61, 252.27,  82.59,  29.3 ,  19.72,\n",
              "       235.76, 143.83,  17.04,  95.33, 216.45, 239.03,  76.9 , 172.28,\n",
              "        62.02,  55.26, 132.67,  84.35, 127.34,  30.05,  85.74, 142.1 ,\n",
              "       146.82,  14.46, 147.85,  13.92, 115.22,  78.33,  24.78, 102.1 ,\n",
              "        27.27, 101.53, 135.52,  25.91, 100.86,  82.9 ,  26.42, 100.44,\n",
              "        59.02,  95.12, 170.72,  15.81,  81.56,  29.21, 147.23, 267.13,\n",
              "        28.82, 197.32,  29.94, 109.35,  21.57,  95.7 ,  76.23,  12.38,\n",
              "        14.62, 189.24,  42.22,  97.4 ,  21.05,  11.45,  77.61,  74.48,\n",
              "       228.12,  29.38, 209.42,  79.54,  19.32, 203.02, 144.51,  79.33,\n",
              "        10.49, 215.47, 151.1 ,  87.1 , 269.28, 172.41,  21.2 ,  55.16,\n",
              "       142.17, 149.19, 193.42,  34.36,   9.6 ,  75.33, 116.99, 112.59,\n",
              "       112.49, 155.38,   8.6 ,  17.12,  67.57,  75.28,  31.85, 126.63,\n",
              "        83.37,  83.23,  17.59,  85.05,  61.82,  69.03,  26.77,  64.03,\n",
              "       216.87,  86.16, 104.52, 183.61,  75.44, 263.8 ,  83.96,  87.7 ,\n",
              "       179.25,  86.64,  78.9 , 189.78, 177.6 ,  81.86,  77.81, 145.86,\n",
              "       245.09, 187.08, 127.36, 264.51, 187.87,  93.69, 248.68,  76.32,\n",
              "       126.34,  99.59, 161.57,  73.21,  48.75, 198.51,  26.95,  29.18,\n",
              "       253.71,  94.96, 249.46, 207.23, 178.46, 207.49,  20.99,  92.95,\n",
              "       119.27,  93.07, 171.33,  94.89,  56.6 ,  64.38, 105.79,  39.49,\n",
              "        83.24,  18.21, 113.86, 128.08,  24.99, 153.14,  99.28,  26.92,\n",
              "         9.69,  95.85, 166.01,  22.51,  98.57, 243.64, 135.9 , 103.68,\n",
              "       319.26,  68.21, 106.16,  13.66, 124.91,  19.47, 141.52, 123.78,\n",
              "        97.98, 288.74, 108.01, 133.61, 126.88,  94.  ,  88.63,  99.88,\n",
              "        54.  ,  57.6 ,  19.9 ,  91.35,  99.2 , 129.33,  92.16,  20.55,\n",
              "        27.52,  19.13,  18.65, 182.29, 106.37,  32.27, 121.67, 265.99,\n",
              "       109.16, 113.83, 243.98,  29.31,  82.02,  16.75, 126.9 , 181.58,\n",
              "       260.84,  53.62, 106.5 , 164.88, 139.94, 148.78, 221.72,  23.99,\n",
              "       120.67, 217.58,  21.43, 190.96, 121.17,  10.73, 120.83,  25.13,\n",
              "        10.51, 240.28,  18.68,  16.76,  19.71, 207.7 , 260.03])"
            ]
          },
          "metadata": {
            "tags": []
          },
          "execution_count": 401
        }
      ]
    },
    {
      "cell_type": "code",
      "metadata": {
        "id": "V0QTP1hD8EpC",
        "colab": {
          "base_uri": "https://localhost:8080/",
          "height": 402
        },
        "outputId": "ce783182-44c6-4026-be90-5a461cdbdf3c"
      },
      "source": [
        "#제출 파일에 예측값 넣기\r\n",
        "for i in range(len(df_submission)):\r\n",
        "  df_submission['id'][i] = int(i)\r\n",
        "  df_submission['count'][i] = y_prediction[i]\r\n",
        "  df_submission['id']= df_submission['id'].astype(int)\r\n",
        "  df_submission['count']= df_submission['count'].astype(int)\r\n",
        "  \r\n",
        "df_submission"
      ],
      "execution_count": 402,
      "outputs": [
        {
          "output_type": "execute_result",
          "data": {
            "text/html": [
              "<div>\n",
              "<style scoped>\n",
              "    .dataframe tbody tr th:only-of-type {\n",
              "        vertical-align: middle;\n",
              "    }\n",
              "\n",
              "    .dataframe tbody tr th {\n",
              "        vertical-align: top;\n",
              "    }\n",
              "\n",
              "    .dataframe thead th {\n",
              "        text-align: right;\n",
              "    }\n",
              "</style>\n",
              "<table border=\"1\" class=\"dataframe\">\n",
              "  <thead>\n",
              "    <tr style=\"text-align: right;\">\n",
              "      <th></th>\n",
              "      <th>id</th>\n",
              "      <th>count</th>\n",
              "    </tr>\n",
              "  </thead>\n",
              "  <tbody>\n",
              "    <tr>\n",
              "      <th>0</th>\n",
              "      <td>0</td>\n",
              "      <td>14</td>\n",
              "    </tr>\n",
              "    <tr>\n",
              "      <th>1</th>\n",
              "      <td>1</td>\n",
              "      <td>237</td>\n",
              "    </tr>\n",
              "    <tr>\n",
              "      <th>2</th>\n",
              "      <td>2</td>\n",
              "      <td>134</td>\n",
              "    </tr>\n",
              "    <tr>\n",
              "      <th>3</th>\n",
              "      <td>3</td>\n",
              "      <td>40</td>\n",
              "    </tr>\n",
              "    <tr>\n",
              "      <th>4</th>\n",
              "      <td>4</td>\n",
              "      <td>109</td>\n",
              "    </tr>\n",
              "    <tr>\n",
              "      <th>...</th>\n",
              "      <td>...</td>\n",
              "      <td>...</td>\n",
              "    </tr>\n",
              "    <tr>\n",
              "      <th>322</th>\n",
              "      <td>322</td>\n",
              "      <td>17</td>\n",
              "    </tr>\n",
              "    <tr>\n",
              "      <th>323</th>\n",
              "      <td>323</td>\n",
              "      <td>18</td>\n",
              "    </tr>\n",
              "    <tr>\n",
              "      <th>324</th>\n",
              "      <td>324</td>\n",
              "      <td>19</td>\n",
              "    </tr>\n",
              "    <tr>\n",
              "      <th>325</th>\n",
              "      <td>325</td>\n",
              "      <td>207</td>\n",
              "    </tr>\n",
              "    <tr>\n",
              "      <th>326</th>\n",
              "      <td>326</td>\n",
              "      <td>259</td>\n",
              "    </tr>\n",
              "  </tbody>\n",
              "</table>\n",
              "<p>327 rows × 2 columns</p>\n",
              "</div>"
            ],
            "text/plain": [
              "      id  count\n",
              "0      0     14\n",
              "1      1    237\n",
              "2      2    134\n",
              "3      3     40\n",
              "4      4    109\n",
              "..   ...    ...\n",
              "322  322     17\n",
              "323  323     18\n",
              "324  324     19\n",
              "325  325    207\n",
              "326  326    259\n",
              "\n",
              "[327 rows x 2 columns]"
            ]
          },
          "metadata": {
            "tags": []
          },
          "execution_count": 402
        }
      ]
    },
    {
      "cell_type": "code",
      "metadata": {
        "colab": {
          "base_uri": "https://localhost:8080/",
          "height": 458
        },
        "id": "rSauB97UbX_T",
        "outputId": "7eab1c3e-f536-43b3-e9ea-1acebbc5ca94"
      },
      "source": [
        "fig,(ax1,ax2)= plt.subplots(ncols=2)\r\n",
        "fig.set_size_inches(12,5)\r\n",
        "\r\n",
        "sns.distplot(y_train,ax=ax1,bins=50)\r\n",
        "ax1.set(title=\"train\")\r\n",
        "sns.distplot(y_test,ax=ax2,bins=50)\r\n",
        "ax2.set(title=\"test\")"
      ],
      "execution_count": 415,
      "outputs": [
        {
          "output_type": "stream",
          "text": [
            "/usr/local/lib/python3.6/dist-packages/seaborn/distributions.py:2557: FutureWarning: `distplot` is a deprecated function and will be removed in a future version. Please adapt your code to use either `displot` (a figure-level function with similar flexibility) or `histplot` (an axes-level function for histograms).\n",
            "  warnings.warn(msg, FutureWarning)\n",
            "/usr/local/lib/python3.6/dist-packages/seaborn/distributions.py:2557: FutureWarning: `distplot` is a deprecated function and will be removed in a future version. Please adapt your code to use either `displot` (a figure-level function with similar flexibility) or `histplot` (an axes-level function for histograms).\n",
            "  warnings.warn(msg, FutureWarning)\n"
          ],
          "name": "stderr"
        },
        {
          "output_type": "execute_result",
          "data": {
            "text/plain": [
              "[Text(0.5, 1.0, 'test')]"
            ]
          },
          "metadata": {
            "tags": []
          },
          "execution_count": 415
        },
        {
          "output_type": "display_data",
          "data": {
            "image/png": "[encoded data removed]",
            "text/plain": [
              "<Figure size 864x360 with 2 Axes>"
            ]
          },
          "metadata": {
            "tags": [],
            "needs_background": "light"
          }
        }
      ]
    },
    {
      "cell_type": "code",
      "metadata": {
        "id": "IdwDJtqA8dPj"
      },
      "source": [
        "#예측값 담은 파일 저장\r\n",
        "df_submission.to_csv(\"result_bike.csv\", index=False,header=True)"
      ],
      "execution_count": 404,
      "outputs": []
    },
    {
      "cell_type": "markdown",
      "metadata": {
        "id": "RECdlsWiO37W"
      },
      "source": [
        "(39점 밑으로 내려보려고 노력했으나...)"
      ]
    }
  ]
}
