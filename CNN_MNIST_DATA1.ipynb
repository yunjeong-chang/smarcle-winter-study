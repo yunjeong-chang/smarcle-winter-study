{
  "nbformat": 4,
  "nbformat_minor": 0,
  "metadata": {
    "colab": {
      "name": "MNIST_DATA1.ipynb",
      "provenance": [],
      "collapsed_sections": [],
      "authorship_tag": "ABX9TyPblTg8tC9d+rLBpb5WjFJZ",
      "include_colab_link": true
    },
    "kernelspec": {
      "name": "python3",
      "display_name": "Python 3"
    }
  },
  "cells": [
    {
      "cell_type": "markdown",
      "metadata": {
        "id": "view-in-github",
        "colab_type": "text"
      },
      "source": [
        "<a href=\"https://colab.research.google.com/github/yunjeong-chang/smarcle-winter-study/blob/main/CNN_MNIST_DATA1.ipynb\" target=\"_parent\"><img src=\"https://colab.research.google.com/assets/colab-badge.svg\" alt=\"Open In Colab\"/></a>"
      ]
    },
    {
      "cell_type": "code",
      "metadata": {
        "id": "iW8GUro2OzTS"
      },
      "source": [
        "from keras.datasets import mnist\r\n",
        "from keras.utils import np_utils\r\n",
        "from keras.models import Sequential\r\n",
        "from keras.layers import Dense\r\n",
        "from keras.callbacks import ModelCheckpoint, EarlyStopping\r\n",
        "\r\n",
        "import pandas as pd\r\n",
        "import numpy as np\r\n",
        "import sys\r\n",
        "import tensorflow as tf\r\n",
        "import matplotlib.pyplot as plt\r\n",
        "import os\r\n",
        "\r\n",
        "seed = 0\r\n",
        "np.random.seed(seed)\r\n",
        "tf.random.set_seed(3)"
      ],
      "execution_count": 62,
      "outputs": []
    },
    {
      "cell_type": "code",
      "metadata": {
        "colab": {
          "base_uri": "https://localhost:8080/"
        },
        "id": "PLmJZx4uTlMH",
        "outputId": "caeff1fd-90ea-47fe-b229-7a96bb526893"
      },
      "source": [
        "#MNIST 데이터 불러오기\r\n",
        "(X_train, Y_class_train), (X_test, Y_class_test) = mnist.load_data()\r\n",
        "print(\"학습셋 이미지 수: %d개\" %(X_train.shape[0]))\r\n",
        "print(\"테스트셋 이미지 수: %d개\" %(X_test.shape[0]))"
      ],
      "execution_count": 63,
      "outputs": [
        {
          "output_type": "stream",
          "text": [
            "학습셋 이미지 수: 60000개\n",
            "테스트셋 이미지 수: 10000개\n"
          ],
          "name": "stdout"
        }
      ]
    },
    {
      "cell_type": "code",
      "metadata": {
        "colab": {
          "base_uri": "https://localhost:8080/",
          "height": 282
        },
        "id": "NH4LCSL4UGeo",
        "outputId": "4eb52309-84d9-4677-e1d8-f2f7178d11f0"
      },
      "source": [
        "plt.imshow(X_train[0], cmap='Greys')"
      ],
      "execution_count": 64,
      "outputs": [
        {
          "output_type": "execute_result",
          "data": {
            "text/plain": [
              "<matplotlib.image.AxesImage at 0x7f75fa9ef5f8>"
            ]
          },
          "metadata": {
            "tags": []
          },
          "execution_count": 64
        },
        {
          "output_type": "display_data",
          "data": {
            "image/png": "[encoded data removed]",
            "text/plain": [
              "<Figure size 432x288 with 1 Axes>"
            ]
          },
          "metadata": {
            "tags": [],
            "needs_background": "light"
          }
        }
      ]
    },
    {
      "cell_type": "code",
      "metadata": {
        "colab": {
          "base_uri": "https://localhost:8080/"
        },
        "id": "0_20o2i0UWPW",
        "outputId": "79c38b21-2fda-418a-9383-c34ff4dac615"
      },
      "source": [
        "for x in X_train[0]:\r\n",
        "  for i in x:\r\n",
        "    sys.stdout.write('%d\\t' %i)\r\n",
        "  sys.stdout.write('\\n')"
      ],
      "execution_count": 65,
      "outputs": [
        {
          "output_type": "stream",
          "text": [
            "0\t0\t0\t0\t0\t0\t0\t0\t0\t0\t0\t0\t0\t0\t0\t0\t0\t0\t0\t0\t0\t0\t0\t0\t0\t0\t0\t0\t\n",
            "0\t0\t0\t0\t0\t0\t0\t0\t0\t0\t0\t0\t0\t0\t0\t0\t0\t0\t0\t0\t0\t0\t0\t0\t0\t0\t0\t0\t\n",
            "0\t0\t0\t0\t0\t0\t0\t0\t0\t0\t0\t0\t0\t0\t0\t0\t0\t0\t0\t0\t0\t0\t0\t0\t0\t0\t0\t0\t\n",
            "0\t0\t0\t0\t0\t0\t0\t0\t0\t0\t0\t0\t0\t0\t0\t0\t0\t0\t0\t0\t0\t0\t0\t0\t0\t0\t0\t0\t\n",
            "0\t0\t0\t0\t0\t0\t0\t0\t0\t0\t0\t0\t0\t0\t0\t0\t0\t0\t0\t0\t0\t0\t0\t0\t0\t0\t0\t0\t\n",
            "0\t0\t0\t0\t0\t0\t0\t0\t0\t0\t0\t0\t3\t18\t18\t18\t126\t136\t175\t26\t166\t255\t247\t127\t0\t0\t0\t0\t\n",
            "0\t0\t0\t0\t0\t0\t0\t0\t30\t36\t94\t154\t170\t253\t253\t253\t253\t253\t225\t172\t253\t242\t195\t64\t0\t0\t0\t0\t\n",
            "0\t0\t0\t0\t0\t0\t0\t49\t238\t253\t253\t253\t253\t253\t253\t253\t253\t251\t93\t82\t82\t56\t39\t0\t0\t0\t0\t0\t\n",
            "0\t0\t0\t0\t0\t0\t0\t18\t219\t253\t253\t253\t253\t253\t198\t182\t247\t241\t0\t0\t0\t0\t0\t0\t0\t0\t0\t0\t\n",
            "0\t0\t0\t0\t0\t0\t0\t0\t80\t156\t107\t253\t253\t205\t11\t0\t43\t154\t0\t0\t0\t0\t0\t0\t0\t0\t0\t0\t\n",
            "0\t0\t0\t0\t0\t0\t0\t0\t0\t14\t1\t154\t253\t90\t0\t0\t0\t0\t0\t0\t0\t0\t0\t0\t0\t0\t0\t0\t\n",
            "0\t0\t0\t0\t0\t0\t0\t0\t0\t0\t0\t139\t253\t190\t2\t0\t0\t0\t0\t0\t0\t0\t0\t0\t0\t0\t0\t0\t\n",
            "0\t0\t0\t0\t0\t0\t0\t0\t0\t0\t0\t11\t190\t253\t70\t0\t0\t0\t0\t0\t0\t0\t0\t0\t0\t0\t0\t0\t\n",
            "0\t0\t0\t0\t0\t0\t0\t0\t0\t0\t0\t0\t35\t241\t225\t160\t108\t1\t0\t0\t0\t0\t0\t0\t0\t0\t0\t0\t\n",
            "0\t0\t0\t0\t0\t0\t0\t0\t0\t0\t0\t0\t0\t81\t240\t253\t253\t119\t25\t0\t0\t0\t0\t0\t0\t0\t0\t0\t\n",
            "0\t0\t0\t0\t0\t0\t0\t0\t0\t0\t0\t0\t0\t0\t45\t186\t253\t253\t150\t27\t0\t0\t0\t0\t0\t0\t0\t0\t\n",
            "0\t0\t0\t0\t0\t0\t0\t0\t0\t0\t0\t0\t0\t0\t0\t16\t93\t252\t253\t187\t0\t0\t0\t0\t0\t0\t0\t0\t\n",
            "0\t0\t0\t0\t0\t0\t0\t0\t0\t0\t0\t0\t0\t0\t0\t0\t0\t249\t253\t249\t64\t0\t0\t0\t0\t0\t0\t0\t\n",
            "0\t0\t0\t0\t0\t0\t0\t0\t0\t0\t0\t0\t0\t0\t46\t130\t183\t253\t253\t207\t2\t0\t0\t0\t0\t0\t0\t0\t\n",
            "0\t0\t0\t0\t0\t0\t0\t0\t0\t0\t0\t0\t39\t148\t229\t253\t253\t253\t250\t182\t0\t0\t0\t0\t0\t0\t0\t0\t\n",
            "0\t0\t0\t0\t0\t0\t0\t0\t0\t0\t24\t114\t221\t253\t253\t253\t253\t201\t78\t0\t0\t0\t0\t0\t0\t0\t0\t0\t\n",
            "0\t0\t0\t0\t0\t0\t0\t0\t23\t66\t213\t253\t253\t253\t253\t198\t81\t2\t0\t0\t0\t0\t0\t0\t0\t0\t0\t0\t\n",
            "0\t0\t0\t0\t0\t0\t18\t171\t219\t253\t253\t253\t253\t195\t80\t9\t0\t0\t0\t0\t0\t0\t0\t0\t0\t0\t0\t0\t\n",
            "0\t0\t0\t0\t55\t172\t226\t253\t253\t253\t253\t244\t133\t11\t0\t0\t0\t0\t0\t0\t0\t0\t0\t0\t0\t0\t0\t0\t\n",
            "0\t0\t0\t0\t136\t253\t253\t253\t212\t135\t132\t16\t0\t0\t0\t0\t0\t0\t0\t0\t0\t0\t0\t0\t0\t0\t0\t0\t\n",
            "0\t0\t0\t0\t0\t0\t0\t0\t0\t0\t0\t0\t0\t0\t0\t0\t0\t0\t0\t0\t0\t0\t0\t0\t0\t0\t0\t0\t\n",
            "0\t0\t0\t0\t0\t0\t0\t0\t0\t0\t0\t0\t0\t0\t0\t0\t0\t0\t0\t0\t0\t0\t0\t0\t0\t0\t0\t0\t\n",
            "0\t0\t0\t0\t0\t0\t0\t0\t0\t0\t0\t0\t0\t0\t0\t0\t0\t0\t0\t0\t0\t0\t0\t0\t0\t0\t0\t0\t\n"
          ],
          "name": "stdout"
        }
      ]
    },
    {
      "cell_type": "code",
      "metadata": {
        "colab": {
          "base_uri": "https://localhost:8080/"
        },
        "id": "Q0LvsEXOU58C",
        "outputId": "8d6c1e51-e7ec-42be-d594-91cc3e14e13a"
      },
      "source": [
        "#차원 변환 과정\r\n",
        "X_train = X_train.reshape(X_train.shape[0], 784).astype('float64') / 255\r\n",
        "X_test = X_test.reshape(X_test.shape[0], 784).astype('float64') / 255\r\n",
        "\r\n",
        "print(\"class: %d\" %(Y_class_train[0]))"
      ],
      "execution_count": 66,
      "outputs": [
        {
          "output_type": "stream",
          "text": [
            "class: 5\n"
          ],
          "name": "stdout"
        }
      ]
    },
    {
      "cell_type": "code",
      "metadata": {
        "colab": {
          "base_uri": "https://localhost:8080/"
        },
        "id": "evH1BgtnVb6J",
        "outputId": "ada65030-9825-4f48-b136-0310b701c5b3"
      },
      "source": [
        "#바이너리화 과정\r\n",
        "Y_train = np_utils.to_categorical(Y_class_train, 10)\r\n",
        "Y_test = np_utils.to_categorical(Y_class_test, 10)\r\n",
        "print(Y_train[0])"
      ],
      "execution_count": 67,
      "outputs": [
        {
          "output_type": "stream",
          "text": [
            "[0. 0. 0. 0. 0. 1. 0. 0. 0. 0.]\n"
          ],
          "name": "stdout"
        }
      ]
    },
    {
      "cell_type": "code",
      "metadata": {
        "id": "9NT65AaCV193"
      },
      "source": [
        "#모델 프레임 설정\r\n",
        "model = Sequential()\r\n",
        "model.add(Dense(512, input_dim=784, activation='relu'))\r\n",
        "model.add(Dense(10, activation='softmax'))\r\n",
        "\r\n",
        "#모델 실행 환경 설정\r\n",
        "model.compile(loss='categorical_crossentropy', optimizer='adam', metrics=['accuracy'])"
      ],
      "execution_count": 68,
      "outputs": []
    },
    {
      "cell_type": "code",
      "metadata": {
        "id": "Dbqaz3puWwKw"
      },
      "source": [
        "#모델 최적화 설정\r\n",
        "MODEL_DIR = './model/'\r\n",
        "if not os.path.exists(MODEL_DIR):\r\n",
        "  os.mkdir(MODEL_DIR)\r\n",
        "\r\n",
        "modelpath = \"./model/{epoch:02d}-{val_loss:.4f}.hdf5\"\r\n",
        "checkpointer = ModelCheckpoint(filepath=modelpath, monitor='val_loss', verbose=1, save_best_only=True)\r\n",
        "early_stopping_callback = EarlyStopping(monitor='val_loss', patience=10)"
      ],
      "execution_count": 69,
      "outputs": []
    },
    {
      "cell_type": "code",
      "metadata": {
        "colab": {
          "base_uri": "https://localhost:8080/"
        },
        "id": "Wbe8yXNwa5_t",
        "outputId": "5152e2f6-8ff2-46cd-e108-3787c309c09a"
      },
      "source": [
        "#모델 실행\r\n",
        "history = model.fit(X_train, Y_train, validation_data=(X_test, Y_test), epochs=30, batch_size=200, verbose=0, callbacks=[early_stopping_callback, checkpointer])"
      ],
      "execution_count": 70,
      "outputs": [
        {
          "output_type": "stream",
          "text": [
            "\n",
            "Epoch 00001: val_loss improved from inf to 0.14746, saving model to ./model/01-0.1475.hdf5\n",
            "\n",
            "Epoch 00002: val_loss improved from 0.14746 to 0.10208, saving model to ./model/02-0.1021.hdf5\n",
            "\n",
            "Epoch 00003: val_loss improved from 0.10208 to 0.08898, saving model to ./model/03-0.0890.hdf5\n",
            "\n",
            "Epoch 00004: val_loss improved from 0.08898 to 0.07866, saving model to ./model/04-0.0787.hdf5\n",
            "\n",
            "Epoch 00005: val_loss improved from 0.07866 to 0.07373, saving model to ./model/05-0.0737.hdf5\n",
            "\n",
            "Epoch 00006: val_loss improved from 0.07373 to 0.06731, saving model to ./model/06-0.0673.hdf5\n",
            "\n",
            "Epoch 00007: val_loss improved from 0.06731 to 0.06465, saving model to ./model/07-0.0646.hdf5\n",
            "\n",
            "Epoch 00008: val_loss improved from 0.06465 to 0.06357, saving model to ./model/08-0.0636.hdf5\n",
            "\n",
            "Epoch 00009: val_loss improved from 0.06357 to 0.06278, saving model to ./model/09-0.0628.hdf5\n",
            "\n",
            "Epoch 00010: val_loss improved from 0.06278 to 0.06218, saving model to ./model/10-0.0622.hdf5\n",
            "\n",
            "Epoch 00011: val_loss did not improve from 0.06218\n",
            "\n",
            "Epoch 00012: val_loss did not improve from 0.06218\n",
            "\n",
            "Epoch 00013: val_loss improved from 0.06218 to 0.06017, saving model to ./model/13-0.0602.hdf5\n",
            "\n",
            "Epoch 00014: val_loss did not improve from 0.06017\n",
            "\n",
            "Epoch 00015: val_loss did not improve from 0.06017\n",
            "\n",
            "Epoch 00016: val_loss did not improve from 0.06017\n",
            "\n",
            "Epoch 00017: val_loss did not improve from 0.06017\n",
            "\n",
            "Epoch 00018: val_loss did not improve from 0.06017\n",
            "\n",
            "Epoch 00019: val_loss did not improve from 0.06017\n",
            "\n",
            "Epoch 00020: val_loss did not improve from 0.06017\n",
            "\n",
            "Epoch 00021: val_loss did not improve from 0.06017\n",
            "\n",
            "Epoch 00022: val_loss did not improve from 0.06017\n",
            "\n",
            "Epoch 00023: val_loss did not improve from 0.06017\n"
          ],
          "name": "stdout"
        }
      ]
    },
    {
      "cell_type": "code",
      "metadata": {
        "colab": {
          "base_uri": "https://localhost:8080/"
        },
        "id": "5-Esei4LbRHS",
        "outputId": "4c67f127-5afa-448c-8bcf-367be2b4deb8"
      },
      "source": [
        "#테스트셋 정확도 출력\r\n",
        "print(\"Test Accuracy: %.4f\" %(model.evaluate(X_test, Y_test)[1]))"
      ],
      "execution_count": 71,
      "outputs": [
        {
          "output_type": "stream",
          "text": [
            "313/313 [==============================] - 1s 3ms/step - loss: 0.0665 - accuracy: 0.9826\n",
            "Test Accuracy: 0.9826\n"
          ],
          "name": "stdout"
        }
      ]
    },
    {
      "cell_type": "code",
      "metadata": {
        "id": "1eDFoeXqbyJZ"
      },
      "source": [
        "#테스트셋의 오차\r\n",
        "y_vloss = history.history['val_loss']\r\n",
        "#학습셋의 오차\r\n",
        "y_loss = history.history['loss']"
      ],
      "execution_count": 72,
      "outputs": []
    },
    {
      "cell_type": "code",
      "metadata": {
        "colab": {
          "base_uri": "https://localhost:8080/",
          "height": 279
        },
        "id": "eO4fyJJfcFJu",
        "outputId": "207aafe3-33b8-4b98-90ba-4d1288780bf2"
      },
      "source": [
        "#그래프로 표현\r\n",
        "x_len = np.arange(len(y_loss))\r\n",
        "plt.plot(x_len, y_vloss, marker='.', c=\"red\", label='Testset_loss')\r\n",
        "plt.plot(x_len, y_loss, marker='.', c=\"blue\", label='Trainset_loss')\r\n",
        "\r\n",
        "#그래프에 그리드를 주고 레이블을 표시\r\n",
        "plt.legend(loc='upper right')\r\n",
        "plt.grid()\r\n",
        "plt.xlabel('epoch')\r\n",
        "plt.ylabel('loss')\r\n",
        "plt.show()"
      ],
      "execution_count": 73,
      "outputs": [
        {
          "output_type": "display_data",
          "data": {
            "image/png": "[encoded data removed]",
            "text/plain": [
              "<Figure size 432x288 with 1 Axes>"
            ]
          },
          "metadata": {
            "tags": [],
            "needs_background": "light"
          }
        }
      ]
    }
  ]
}